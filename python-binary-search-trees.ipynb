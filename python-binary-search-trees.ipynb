{
 "cells": [
  {
   "cell_type": "markdown",
   "id": "21773049",
   "metadata": {},
   "source": [
    "# Binary Search Trees, Traversals and Balancing in Python\n",
    "\n",
    "### Part 2 of \"Data Structures and Algorithms in Python\"\n",
    "\n",
    "![](https://i.imgur.com/lVqP63n.png)\n",
    "\n",
    "\n",
    "\n",
    "\n",
    "\n",
    "[Data Structures and Algorithms in Python](https://pythondsa.com) is beginner-friendly introduction to common data structures (linked lists, stacks, queues, graphs) and algorithms (search, sorting, recursion, dynamic programming) in Python, designed to help you prepare for coding interviews and assessments. Check out the full series here:\n",
    "\n",
    "1. [Binary Search and Complexity Analysis](https://jovian.ai/aakashns/python-binary-search)\n",
    "3. [Binary Search Trees, Traversals and Balancing](https://jovian.ai/aakashns/python-binary-search-trees)\n",
    "2. [Python Classes and Linked Lists](https://jovian.ai/aakashns/python-classes-and-linked-lists)\n",
    "4. Stacks, Queues and Strings (coming soon)\n",
    "5. Insertion Sort, Merge Sort and Divide-and-Conquer (coming soon)\n",
    "6. Quicksort, Partitions and Average-case Complexity (coming soon)\n",
    "7. Recursion, Backtracking and Dynamic Programming (coming soon)\n",
    "8. Knapsack, Subsequence and Matrix Problems (coming soon)\n",
    "9. Graphs, Breadth-First Search and Depth-First Search (coming soon)\n",
    "10. Shortest Paths, Spanning Trees & Topological Sorting (coming soon)\n",
    "11. Disjoint Sets and the Union Find Algorithm (coming soon)\n",
    "12. Interview Questions, Tips & Practical Advice (coming soon)\n",
    "\n",
    "\n",
    "Earn a verified certificate of accomplishment for this course by signing up here: http://pythondsa.com .\n",
    "\n",
    "Ask questions, get help & participate in discussions on the community forum: https://jovian.ai/forum/c/data-structures-and-algorithms-in-python/78"
   ]
  },
  {
   "cell_type": "markdown",
   "id": "d7720b37",
   "metadata": {},
   "source": [
    "### Prerequisites\n",
    "\n",
    "This course assumes very little background in programming and mathematics, and you can learn the required concepts here:\n",
    "\n",
    "- Basic programming with Python ([variables](https://jovian.ai/aakashns/first-steps-with-python), [data types](https://jovian.ai/aakashns/python-variables-and-data-types), [loops](https://jovian.ai/aakashns/python-branching-and-loops), [functions](https://jovian.ai/aakashns/python-functions-and-scope) etc.)\n",
    "- Some high school mathematics ([polynomials](https://www.youtube.com/watch?v=Vm7H0VTlIco), [vectors, matrices](https://www.youtube.com/watch?v=0oGJTQCy4cQ&list=PLSQl0a2vh4HCs4zPpOEdF2GuydqS90Yb6) and [probability](https://www.youtube.com/watch?v=uzkc-qNVoOk))\n",
    "- No prior knowledge of data structures or algorithms is required\n",
    "\n",
    "We'll cover any additional mathematical and theoretical concepts we need as we go along.\n",
    "\n"
   ]
  },
  {
   "cell_type": "markdown",
   "id": "2b8ec7a9",
   "metadata": {},
   "source": [
    "## How to Run the Code\n",
    "\n",
    "The best way to learn the material is to execute the code and experiment with it yourself. This tutorial is an executable [Jupyter notebook](https://jupyter.org). You can _run_ this tutorial and experiment with the code examples in a couple of ways: *using free online resources* (recommended) or *on your computer*.\n",
    "\n",
    "#### Option 1: Running using free online resources (1-click, recommended)\n",
    "\n",
    "The easiest way to start executing the code is to click the **Run** button at the top of this page and select **Run on Binder**. You can also select \"Run on Colab\" or \"Run on Kaggle\", but you'll need to create an account on [Google Colab](https://colab.research.google.com) or [Kaggle](https://kaggle.com) to use these platforms.\n",
    "\n",
    "\n",
    "#### Option 2: Running on your computer locally\n",
    "\n",
    "To run the code on your computer locally, you'll need to set up [Python](https://www.python.org), download the notebook and install the required libraries. We recommend using the [Conda](https://docs.conda.io/projects/conda/en/latest/user-guide/install/) distribution of Python. Click the **Run** button at the top of this page, select the **Run Locally** option, and follow the instructions.\n"
   ]
  },
  {
   "cell_type": "markdown",
   "id": "2f67b3d6",
   "metadata": {},
   "source": [
    "## Problem \n",
    "\n",
    "\n",
    "In this notebook, we'll focus on solving the following problem:\n",
    "\n",
    "> **QUESTION 1**: As a senior backend engineer at Jovian, you are tasked with developing a fast in-memory data structure to manage profile information (username, name and email) for 100 million users. It should allow the following operations to be performed efficiently:\n",
    "> \n",
    "> 1. **Insert** the profile information for a new user.\n",
    "> 2. **Find** the profile information of a user, given their username\n",
    "> 3. **Update** the profile information of a user, given their usrname\n",
    "> 5. **List** all the users of the platform, sorted by username\n",
    ">\n",
    "> You can assume that usernames are unique. \n",
    "\n",
    "Along the way, we will also solve several other questions related to binary trees and binary search trees that are often asked in coding interviews and assessments. "
   ]
  },
  {
   "cell_type": "markdown",
   "id": "ddbdefc4",
   "metadata": {},
   "source": [
    "## The Method\n",
    "\n",
    "\n",
    "Here's a systematic strategy we'll apply for solving problems:\n",
    "\n",
    "1. State the problem clearly. Identify the input & output formats.\n",
    "2. Come up with some example inputs & outputs. Try to cover all edge cases.\n",
    "3. Come up with a correct solution for the problem. State it in plain English.\n",
    "4. Implement the solution and test it using example inputs. Fix bugs, if any.\n",
    "5. Analyze the algorithm's complexity and identify inefficiencies, if any.\n",
    "6. Apply the right technique to overcome the inefficiency. Repeat steps 3 to 6.\n",
    "\n"
   ]
  },
  {
   "cell_type": "markdown",
   "id": "0032bf02",
   "metadata": {},
   "source": [
    "## 1. State the problem clearly. Identify the input & output formats.\n",
    "\n",
    "#### Problem\n",
    "\n",
    "> We need to create a data structure which can store 100 million records and perform insertion, search, update and list operations efficiently.\n",
    "\n",
    "#### Input\n",
    "\n",
    "The key inputs to our data structure are user profiles, which contain the username, name and email of a user. \n",
    "\n",
    "A Python _class_ would be a great way to represent the information for a user. A class is a blueprint for creating _objects_. Everything in Python is an _object_ belonging to some _class_. Here's the simples possible class in Python, with nothing in it:"
   ]
  },
  {
   "cell_type": "code",
   "execution_count": 1,
   "id": "2b0e2a08",
   "metadata": {},
   "outputs": [],
   "source": [
    "class User:\n",
    "    pass"
   ]
  },
  {
   "cell_type": "markdown",
   "id": "0e7b6e74",
   "metadata": {},
   "source": [
    "We can create or _instantiate_ an object of the class by calling it like a function."
   ]
  },
  {
   "cell_type": "code",
   "execution_count": 2,
   "id": "328b2fc6",
   "metadata": {},
   "outputs": [],
   "source": [
    "user1 = User()"
   ]
  },
  {
   "cell_type": "markdown",
   "id": "dc19ed2a",
   "metadata": {},
   "source": [
    "We can verify that the object is of the class `User`."
   ]
  },
  {
   "cell_type": "code",
   "execution_count": 3,
   "id": "c6b2a4d3",
   "metadata": {},
   "outputs": [
    {
     "data": {
      "text/plain": [
       "<__main__.User at 0x7f707c433a90>"
      ]
     },
     "execution_count": 3,
     "metadata": {},
     "output_type": "execute_result"
    }
   ],
   "source": [
    "user1"
   ]
  },
  {
   "cell_type": "code",
   "execution_count": 4,
   "id": "80e129de",
   "metadata": {},
   "outputs": [
    {
     "data": {
      "text/plain": [
       "__main__.User"
      ]
     },
     "execution_count": 4,
     "metadata": {},
     "output_type": "execute_result"
    }
   ],
   "source": [
    "type(user1)"
   ]
  },
  {
   "cell_type": "markdown",
   "id": "9b2e21bf",
   "metadata": {},
   "source": [
    "The object `user1` does not contain any useful information. Let's add a _constructor method_ to the class to store some _attributes_ or _properties_."
   ]
  },
  {
   "cell_type": "code",
   "execution_count": 5,
   "id": "5a351a32",
   "metadata": {},
   "outputs": [],
   "source": [
    "class User:\n",
    "    def __init__(self, username, name, email):\n",
    "        self.username = username\n",
    "        self.name = name\n",
    "        self.email = email\n",
    "        print('User created!')"
   ]
  },
  {
   "cell_type": "markdown",
   "id": "a0829619",
   "metadata": {},
   "source": [
    "We can now create an object with some properties."
   ]
  },
  {
   "cell_type": "code",
   "execution_count": 6,
   "id": "69ddf23b",
   "metadata": {},
   "outputs": [
    {
     "name": "stdout",
     "output_type": "stream",
     "text": [
      "User created!\n"
     ]
    }
   ],
   "source": [
    "user2 = User('johnd', 'John Doe', 'john@doe.com')"
   ]
  },
  {
   "cell_type": "code",
   "execution_count": 7,
   "id": "88e32689",
   "metadata": {},
   "outputs": [
    {
     "data": {
      "text/plain": [
       "<__main__.User at 0x7f707c433df0>"
      ]
     },
     "execution_count": 7,
     "metadata": {},
     "output_type": "execute_result"
    }
   ],
   "source": [
    "user2"
   ]
  },
  {
   "cell_type": "markdown",
   "id": "ca8a6d43",
   "metadata": {},
   "source": [
    "Here's what's happening above (conceptually):\n",
    "\n",
    "- Python creates an empty object of the type user and stores in the variable `user2`\n",
    "- Python then invokes the function `User.___init__` with the arguments `user2`, `\"john\"`, `\"John Doe\"` and `\"john@doe.com\"`\n",
    "- As the `__init__` function is executed, the properties `username`, `name` and `email` are set on the object `user2`\n"
   ]
  },
  {
   "cell_type": "markdown",
   "id": "299460b3",
   "metadata": {},
   "source": [
    "We can access the properties of the object using the `.` notation."
   ]
  },
  {
   "cell_type": "code",
   "execution_count": 8,
   "id": "1d26e856",
   "metadata": {},
   "outputs": [
    {
     "data": {
      "text/plain": [
       "'John Doe'"
      ]
     },
     "execution_count": 8,
     "metadata": {},
     "output_type": "execute_result"
    }
   ],
   "source": [
    "user2.name"
   ]
  },
  {
   "cell_type": "code",
   "execution_count": 9,
   "id": "c831b97c",
   "metadata": {},
   "outputs": [
    {
     "data": {
      "text/plain": [
       "('john@doe.com', 'johnd')"
      ]
     },
     "execution_count": 9,
     "metadata": {},
     "output_type": "execute_result"
    }
   ],
   "source": [
    "user2.email, user2.username"
   ]
  },
  {
   "cell_type": "markdown",
   "id": "567dcda7",
   "metadata": {},
   "source": [
    "You can also define custom methods inside a class."
   ]
  },
  {
   "cell_type": "code",
   "execution_count": 10,
   "id": "5955997d",
   "metadata": {},
   "outputs": [],
   "source": [
    "class User:\n",
    "    def __init__(self, username, name, email):\n",
    "        self.username = username\n",
    "        self.name = name\n",
    "        self.email = email\n",
    "    \n",
    "    def introduce_yourself(self, guest_name):\n",
    "        print(\"Hi {}, I'm {}! Contact me at {} .\".format(guest_name, self.name, self.email))"
   ]
  },
  {
   "cell_type": "code",
   "execution_count": 11,
   "id": "90890370",
   "metadata": {},
   "outputs": [],
   "source": [
    "user3 = User('jane', 'Jane Doe', 'jane@doe.com')"
   ]
  },
  {
   "cell_type": "code",
   "execution_count": 12,
   "id": "b70afa09",
   "metadata": {},
   "outputs": [
    {
     "name": "stdout",
     "output_type": "stream",
     "text": [
      "Hi David, I'm Jane Doe! Contact me at jane@doe.com .\n"
     ]
    }
   ],
   "source": [
    "user3.introduce_yourself('David')"
   ]
  },
  {
   "cell_type": "markdown",
   "id": "8a344636",
   "metadata": {},
   "source": [
    "When we try to invoke the method `user3.introduce_yourself`, the object `user3` is automatically passed as the first argument `self`. Indeed, the following statement is equivalent to the above statement."
   ]
  },
  {
   "cell_type": "code",
   "execution_count": 13,
   "id": "d6c08eda",
   "metadata": {},
   "outputs": [
    {
     "name": "stdout",
     "output_type": "stream",
     "text": [
      "Hi David, I'm Jane Doe! Contact me at jane@doe.com .\n"
     ]
    }
   ],
   "source": [
    "User.introduce_yourself(user3, 'David')"
   ]
  },
  {
   "cell_type": "markdown",
   "id": "f24cc20c",
   "metadata": {},
   "source": [
    "Finally, we'll define a couple of helper methods to display user objects nicely within Jupyter."
   ]
  },
  {
   "cell_type": "code",
   "execution_count": 14,
   "id": "f345e185",
   "metadata": {},
   "outputs": [],
   "source": [
    "class User:\n",
    "    def __init__(self, username, name, email):\n",
    "        self.username = username\n",
    "        self.name = name\n",
    "        self.email = email\n",
    "        \n",
    "    def __repr__(self):\n",
    "        return \"User(username='{}', name='{}', email='{}')\".format(self.username, self.name, self.email)\n",
    "    \n",
    "    def __str__(self):\n",
    "        return self.__repr__()"
   ]
  },
  {
   "cell_type": "code",
   "execution_count": 15,
   "id": "493527ed",
   "metadata": {},
   "outputs": [],
   "source": [
    "user4 = User('jane', 'Jane Doe', 'jane@doe.com')"
   ]
  },
  {
   "cell_type": "code",
   "execution_count": 16,
   "id": "6091cdf7",
   "metadata": {},
   "outputs": [
    {
     "data": {
      "text/plain": [
       "User(username='jane', name='Jane Doe', email='jane@doe.com')"
      ]
     },
     "execution_count": 16,
     "metadata": {},
     "output_type": "execute_result"
    }
   ],
   "source": [
    "user4"
   ]
  },
  {
   "cell_type": "markdown",
   "id": "40527223",
   "metadata": {},
   "source": [
    "**Exercise:** What is the purpose of defining the functions `__str__` and `__repr__` within a class? How are the two functions different? Illustrate with some examples using the empty cells below.\n",
    "\n",
    "\n",
    "Learn more about classes in Python here: https://jovian.ai/aakashns/python-classes-and-linked-lists ."
   ]
  },
  {
   "cell_type": "code",
   "execution_count": 17,
   "id": "6dd57d79",
   "metadata": {},
   "outputs": [
    {
     "ename": "SyntaxError",
     "evalue": "invalid syntax (2990580298.py, line 1)",
     "output_type": "error",
     "traceback": [
      "\u001b[0;36m  File \u001b[0;32m\"/tmp/ipykernel_35/2990580298.py\"\u001b[0;36m, line \u001b[0;32m1\u001b[0m\n\u001b[0;31m    __repr__ allows you to define your own string representation of the class object like the user4 output:\u001b[0m\n\u001b[0m             ^\u001b[0m\n\u001b[0;31mSyntaxError\u001b[0m\u001b[0;31m:\u001b[0m invalid syntax\n"
     ]
    }
   ],
   "source": [
    "__repr__ allows you to define your own string representation of the class object like the user4 output: \n",
    "    \"User(username='jane', name='Jane Doe', email='jane@doe.com')\"\n",
    "    invoked by \"print(repr(user4))\""
   ]
  },
  {
   "cell_type": "code",
   "execution_count": 18,
   "id": "b239b088",
   "metadata": {},
   "outputs": [
    {
     "ename": "SyntaxError",
     "evalue": "invalid syntax (2571157505.py, line 1)",
     "output_type": "error",
     "traceback": [
      "\u001b[0;36m  File \u001b[0;32m\"/tmp/ipykernel_35/2571157505.py\"\u001b[0;36m, line \u001b[0;32m1\u001b[0m\n\u001b[0;31m    __str__ is invoked by using either \"print(user4.__str__())\" or \"str(user4.__str__())\"\u001b[0m\n\u001b[0m                       ^\u001b[0m\n\u001b[0;31mSyntaxError\u001b[0m\u001b[0;31m:\u001b[0m invalid syntax\n"
     ]
    }
   ],
   "source": [
    "__str__ is invoked by using either \"print(user4.__str__())\" or \"str(user4.__str__())\""
   ]
  },
  {
   "cell_type": "markdown",
   "id": "4a357f0a",
   "metadata": {},
   "source": [
    "#### Output\n",
    "\n",
    "We can also express our desired data structure as a Python class `UserDatabase` with four methods: `insert`, `find`, `update` and `list_all`. "
   ]
  },
  {
   "cell_type": "code",
   "execution_count": 19,
   "id": "10b82aa6",
   "metadata": {},
   "outputs": [],
   "source": [
    "class UserDatabase:\n",
    "    def insert(self, user):\n",
    "        pass\n",
    "    \n",
    "    def find(self, username):\n",
    "        pass\n",
    "    \n",
    "    def update(self, user):\n",
    "        pass\n",
    "        \n",
    "    def list_all(self):\n",
    "        pass"
   ]
  },
  {
   "cell_type": "markdown",
   "id": "d20d167c",
   "metadata": {},
   "source": [
    "It's good programming practice to list out the signatures of different class functions before we actually implement the class."
   ]
  },
  {
   "cell_type": "markdown",
   "id": "9308afbc",
   "metadata": {},
   "source": [
    "## 2. Come up with some example inputs & outputs. \n",
    "\n",
    "Let's create some sample user profiles that we can use to test our functions once we implement them."
   ]
  },
  {
   "cell_type": "code",
   "execution_count": 20,
   "id": "585f2c76",
   "metadata": {},
   "outputs": [],
   "source": [
    "aakash = User('aakash', 'Aakash Rai', 'aakash@example.com')\n",
    "biraj = User('biraj', 'Biraj Das', 'biraj@example.com')\n",
    "hemanth = User('hemanth', 'Hemanth Jain', 'hemanth@example.com')\n",
    "jadhesh = User('jadhesh', 'Jadhesh Verma', 'jadhesh@example.com')\n",
    "siddhant = User('siddhant', 'Siddhant Sinha', 'siddhant@example.com')\n",
    "sonaksh = User('sonaksh', 'Sonaksh Kumar', 'sonaksh@example.com')\n",
    "vishal = User('vishal', 'Vishal Goel', 'vishal@example.com')"
   ]
  },
  {
   "cell_type": "code",
   "execution_count": 21,
   "id": "47c7f41d",
   "metadata": {},
   "outputs": [],
   "source": [
    "users = [aakash, biraj, hemanth, jadhesh, siddhant, sonaksh, vishal]"
   ]
  },
  {
   "cell_type": "markdown",
   "id": "af011679",
   "metadata": {},
   "source": [
    "We can access different fields within a user profile object using the `.` (dot) notation."
   ]
  },
  {
   "cell_type": "code",
   "execution_count": 22,
   "id": "4303ca1d",
   "metadata": {},
   "outputs": [
    {
     "data": {
      "text/plain": [
       "('biraj', 'biraj@example.com', 'Biraj Das')"
      ]
     },
     "execution_count": 22,
     "metadata": {},
     "output_type": "execute_result"
    }
   ],
   "source": [
    "biraj.username, biraj.email, biraj.name"
   ]
  },
  {
   "cell_type": "markdown",
   "id": "547a3395",
   "metadata": {},
   "source": [
    "We can also view a string representation of the object, since defined the `__repr__` and `__str__` methods"
   ]
  },
  {
   "cell_type": "code",
   "execution_count": 23,
   "id": "d5dc6c26",
   "metadata": {
    "scrolled": true
   },
   "outputs": [
    {
     "name": "stdout",
     "output_type": "stream",
     "text": [
      "User(username='aakash', name='Aakash Rai', email='aakash@example.com')\n"
     ]
    }
   ],
   "source": [
    "print(aakash)"
   ]
  },
  {
   "cell_type": "code",
   "execution_count": 24,
   "id": "c344f298",
   "metadata": {},
   "outputs": [
    {
     "data": {
      "text/plain": [
       "[User(username='aakash', name='Aakash Rai', email='aakash@example.com'),\n",
       " User(username='biraj', name='Biraj Das', email='biraj@example.com'),\n",
       " User(username='hemanth', name='Hemanth Jain', email='hemanth@example.com'),\n",
       " User(username='jadhesh', name='Jadhesh Verma', email='jadhesh@example.com'),\n",
       " User(username='siddhant', name='Siddhant Sinha', email='siddhant@example.com'),\n",
       " User(username='sonaksh', name='Sonaksh Kumar', email='sonaksh@example.com'),\n",
       " User(username='vishal', name='Vishal Goel', email='vishal@example.com')]"
      ]
     },
     "execution_count": 24,
     "metadata": {},
     "output_type": "execute_result"
    }
   ],
   "source": [
    "users"
   ]
  },
  {
   "cell_type": "markdown",
   "id": "52adf467",
   "metadata": {},
   "source": [
    "Since we haven't implemented our data structure yet, it's not possible to list sample outputs. However you can try to come up with different scenarios to test future implementations\n",
    "\n",
    "**Exercise:** List some scenarios for testing the class methods `insert`, `find`, `update` and `list_all`.\n",
    "\n",
    "1. Insert:\n",
    "    1. Inserting into an empty database of users\n",
    "    2. Trying to insert a user with a username that already exists\n",
    "    3. Inserting a user with a username that does not exist\n",
    "\n",
    "2. Find:\n",
    "    1. User in an empty data set\n",
    "    2. User that has same username as another\n",
    "    3. The last user in the data set\n",
    "\n",
    "3. Update:\n",
    "    1. Updating profile that is the same as another user\n",
    "    2. Updating blank profile information\n",
    "    3. Updating existing profile information\n",
    "\n",
    "4. List:\n",
    "    1. Users within a specific range of letters\n",
    "    2. All users\n",
    "    3. Users in an empty data set\n",
    "\n",
    "\n"
   ]
  },
  {
   "cell_type": "markdown",
   "id": "3cbd3bd0",
   "metadata": {},
   "source": [
    "## 3. Come up with a correct solution. State it in plain English.\n",
    "\n",
    "Here's a simple and easy solution to the problem: we store the `User` objects in a list sorted by usernames. \n",
    "\n",
    "The various functions can be implemented as follows:\n",
    "\n",
    "1. **Insert**: Loop through the list and add the new user at a position that keeps the list sorted.\n",
    "2. **Find**: Loop through the list and find the user object with the username matching the query.\n",
    "3. **Update**: Loop through the list, find the user object matching the query and update the details\n",
    "4. **List**: Return the list of user objects.\n",
    "\n",
    "We can use the fact usernames, which are are strings can be compared using the `<`, `>` and `==` operators in Python."
   ]
  },
  {
   "cell_type": "code",
   "execution_count": 25,
   "id": "70344f92",
   "metadata": {},
   "outputs": [
    {
     "data": {
      "text/plain": [
       "True"
      ]
     },
     "execution_count": 25,
     "metadata": {},
     "output_type": "execute_result"
    }
   ],
   "source": [
    "'biraj' < 'hemanth'"
   ]
  },
  {
   "cell_type": "markdown",
   "id": "036de8ee",
   "metadata": {},
   "source": [
    "## 4. Implement the solution and test it using example inputs.\n",
    "\n",
    "The code for implementing the above solution is also fairly straightfoward."
   ]
  },
  {
   "cell_type": "code",
   "execution_count": 26,
   "id": "5e5342c9",
   "metadata": {},
   "outputs": [],
   "source": [
    "class UserDatabase:\n",
    "    def __init__(self):\n",
    "        self.users = []\n",
    "    \n",
    "    def insert(self, user):\n",
    "        i = 0\n",
    "        while i < len(self.users):\n",
    "            # Find the first username greater than the new user's username\n",
    "            if self.users[i].username > user.username:\n",
    "                break\n",
    "            i += 1\n",
    "        self.users.insert(i, user)\n",
    "    \n",
    "    def find(self, username):\n",
    "        for user in self.users:\n",
    "            if user.username == username:\n",
    "                return user\n",
    "    \n",
    "    def update(self, user):\n",
    "        target = self.find(user.username)\n",
    "        target.name, target.email = user.name, user.email\n",
    "        \n",
    "    def list_all(self):\n",
    "        return self.users"
   ]
  },
  {
   "cell_type": "markdown",
   "id": "d5b92659",
   "metadata": {},
   "source": [
    "We can create a new database of users by _instantiating_ and object of the `UserDatabase` class."
   ]
  },
  {
   "cell_type": "code",
   "execution_count": 27,
   "id": "35f07b2b",
   "metadata": {},
   "outputs": [],
   "source": [
    "database = UserDatabase()"
   ]
  },
  {
   "cell_type": "markdown",
   "id": "0c1c9f27",
   "metadata": {},
   "source": [
    "Let's insert some entires into the object."
   ]
  },
  {
   "cell_type": "code",
   "execution_count": 28,
   "id": "ebbdd802",
   "metadata": {},
   "outputs": [],
   "source": [
    "database.insert(hemanth)\n",
    "database.insert(aakash)\n",
    "database.insert(siddhant)"
   ]
  },
  {
   "cell_type": "markdown",
   "id": "439da5f9",
   "metadata": {},
   "source": [
    "We can now retrieve the data for a user, given their username."
   ]
  },
  {
   "cell_type": "code",
   "execution_count": 29,
   "id": "bbbcad38",
   "metadata": {},
   "outputs": [
    {
     "data": {
      "text/plain": [
       "User(username='siddhant', name='Siddhant Sinha', email='siddhant@example.com')"
      ]
     },
     "execution_count": 29,
     "metadata": {},
     "output_type": "execute_result"
    }
   ],
   "source": [
    "user = database.find('siddhant')\n",
    "user"
   ]
  },
  {
   "cell_type": "markdown",
   "id": "aee6f5e4",
   "metadata": {},
   "source": [
    "Let's try changing the information for a user"
   ]
  },
  {
   "cell_type": "code",
   "execution_count": 30,
   "id": "5cab799c",
   "metadata": {},
   "outputs": [],
   "source": [
    "database.update(User(username='siddhant', name='Siddhant U', email='siddhantu@example.com'))"
   ]
  },
  {
   "cell_type": "code",
   "execution_count": 31,
   "id": "80b0dcd4",
   "metadata": {},
   "outputs": [
    {
     "data": {
      "text/plain": [
       "User(username='siddhant', name='Siddhant U', email='siddhantu@example.com')"
      ]
     },
     "execution_count": 31,
     "metadata": {},
     "output_type": "execute_result"
    }
   ],
   "source": [
    "user = database.find('siddhant')\n",
    "user"
   ]
  },
  {
   "cell_type": "markdown",
   "id": "ca3e2825",
   "metadata": {},
   "source": [
    "Finally, we can retrieve a list of users in alphabetical order."
   ]
  },
  {
   "cell_type": "code",
   "execution_count": 32,
   "id": "4dfb8252",
   "metadata": {},
   "outputs": [
    {
     "data": {
      "text/plain": [
       "[User(username='aakash', name='Aakash Rai', email='aakash@example.com'),\n",
       " User(username='hemanth', name='Hemanth Jain', email='hemanth@example.com'),\n",
       " User(username='siddhant', name='Siddhant U', email='siddhantu@example.com')]"
      ]
     },
     "execution_count": 32,
     "metadata": {},
     "output_type": "execute_result"
    }
   ],
   "source": [
    "database.list_all()"
   ]
  },
  {
   "cell_type": "markdown",
   "id": "0923671f",
   "metadata": {},
   "source": [
    "Let's verify that a new user is inserted into the correct position."
   ]
  },
  {
   "cell_type": "code",
   "execution_count": 33,
   "id": "55394380",
   "metadata": {},
   "outputs": [],
   "source": [
    "database.insert(biraj)"
   ]
  },
  {
   "cell_type": "code",
   "execution_count": 34,
   "id": "f87fa1a2",
   "metadata": {},
   "outputs": [
    {
     "data": {
      "text/plain": [
       "[User(username='aakash', name='Aakash Rai', email='aakash@example.com'),\n",
       " User(username='biraj', name='Biraj Das', email='biraj@example.com'),\n",
       " User(username='hemanth', name='Hemanth Jain', email='hemanth@example.com'),\n",
       " User(username='siddhant', name='Siddhant U', email='siddhantu@example.com')]"
      ]
     },
     "execution_count": 34,
     "metadata": {},
     "output_type": "execute_result"
    }
   ],
   "source": [
    "database.list_all()"
   ]
  },
  {
   "cell_type": "markdown",
   "id": "157984df",
   "metadata": {},
   "source": [
    "The user `biraj` was inserted just before `hemanth`, as expected.\n",
    "\n",
    "**Exercise:** Use the empty cells below to test the various scenarios you listed in step 2 above."
   ]
  },
  {
   "cell_type": "code",
   "execution_count": 35,
   "id": "0c1f7a19",
   "metadata": {},
   "outputs": [
    {
     "data": {
      "text/plain": [
       "[User(username='aakash', name='Aakash Rai', email='aakash@example.com'),\n",
       " User(username='aakash', name='Aakash Rai', email='aakash@example.com'),\n",
       " User(username='biraj', name='Biraj Das', email='biraj@example.com'),\n",
       " User(username='hemanth', name='Hemanth Jain', email='hemanth@example.com'),\n",
       " User(username='siddhant', name='Siddhant U', email='siddhantu@example.com')]"
      ]
     },
     "execution_count": 35,
     "metadata": {},
     "output_type": "execute_result"
    }
   ],
   "source": [
    "# inserting with a username that already exists\n",
    "database.insert(aakash)\n",
    "database.list_all()"
   ]
  },
  {
   "cell_type": "code",
   "execution_count": null,
   "id": "a0d7c5c1",
   "metadata": {},
   "outputs": [],
   "source": []
  },
  {
   "cell_type": "code",
   "execution_count": null,
   "id": "fb97bc0d",
   "metadata": {},
   "outputs": [],
   "source": []
  },
  {
   "cell_type": "markdown",
   "id": "e1092477",
   "metadata": {},
   "source": [
    "## 5. Analyze the algorithm's complexity and identify inefficiencies\n",
    "\n",
    "The operations `insert`, `find`, `update` involves iterating over a list of users, in the worst case, they may take up to `N` iterations to return a result, where `N` is the total number of users. `list_all` however, simply returns the existing internal list of users. \n",
    "\n",
    "Thus, the time complexities of the various operations are:\n",
    "\n",
    "1. Insert: **O(N)**\n",
    "2. Find: **O(N)**\n",
    "3. Update: **O(N)**\n",
    "4. List: **O(1)**\n",
    "\n",
    "**Exercise:** Verify that the space complexity of each operation is **O(1)**.\n",
    "\n",
    "Is this good enough? To get a sense how long each function might take if there are 100 million users on the platform, we can simply run an `for` or `while` loop on 10 million numbers."
   ]
  },
  {
   "cell_type": "code",
   "execution_count": 36,
   "id": "ed352298",
   "metadata": {},
   "outputs": [
    {
     "name": "stdout",
     "output_type": "stream",
     "text": [
      "CPU times: user 16.6 s, sys: 6.93 ms, total: 16.6 s\n",
      "Wall time: 16.9 s\n"
     ]
    }
   ],
   "source": [
    "%%time\n",
    "for i in range(100000000):\n",
    "    j = i*i"
   ]
  },
  {
   "cell_type": "markdown",
   "id": "85be2c68",
   "metadata": {},
   "source": [
    "It takes almost 10 seconds to execute all the iterations in the above cell. \n",
    "\n",
    "* A 10-second delay for fetching user profiles will lead to a suboptimal users experience and may cause many users to stop using the platform altogether. \n",
    "* The 10-second processing time for each profile request will also significantly limit the number of users that can access the platform at a time or increase the cloud infrastructure costs for the company by millions of dollars.\n",
    "\n",
    "As a senior backend engineer, you must come up with a more efficient data structure! Choosing the right data structure for the requirements at hand is an important skill. It's apparent that a sorted list of users might not be the best data structure to organize profile information for millions of users. "
   ]
  },
  {
   "cell_type": "markdown",
   "id": "6b6c4447",
   "metadata": {},
   "source": [
    "### Save and upload your work to Jovian\n",
    "\n",
    "Whether you're running this Jupyter notebook online or on your computer, it's essential to save your work from time to time. You can continue working on a saved notebook later or share it with friends and colleagues to let them execute your code. [Jovian](https://jovian.ai/platform-features) offers an easy way of saving and sharing your Jupyter notebooks online."
   ]
  },
  {
   "cell_type": "code",
   "execution_count": 37,
   "id": "f2619d8d",
   "metadata": {},
   "outputs": [],
   "source": [
    "!pip install jovian --upgrade --quiet"
   ]
  },
  {
   "cell_type": "code",
   "execution_count": 38,
   "id": "a98a97ce",
   "metadata": {},
   "outputs": [],
   "source": [
    "import jovian"
   ]
  },
  {
   "cell_type": "code",
   "execution_count": 39,
   "id": "a2a29c95",
   "metadata": {},
   "outputs": [
    {
     "data": {
      "application/javascript": [
       "window.require && require([\"base/js/namespace\"],function(Jupyter){Jupyter.notebook.save_checkpoint()})"
      ],
      "text/plain": [
       "<IPython.core.display.Javascript object>"
      ]
     },
     "metadata": {},
     "output_type": "display_data"
    },
    {
     "name": "stdout",
     "output_type": "stream",
     "text": [
      "[jovian] Updating notebook \"aciorra83/python-binary-search-trees\" on https://jovian.ai\u001b[0m\n",
      "[jovian] Committed successfully! https://jovian.ai/aciorra83/python-binary-search-trees\u001b[0m\n"
     ]
    },
    {
     "data": {
      "text/plain": [
       "'https://jovian.ai/aciorra83/python-binary-search-trees'"
      ]
     },
     "execution_count": 39,
     "metadata": {},
     "output_type": "execute_result"
    }
   ],
   "source": [
    "jovian.commit(project='python-binary-search-trees')"
   ]
  },
  {
   "cell_type": "markdown",
   "id": "94b1485d",
   "metadata": {},
   "source": [
    "## 6. Apply the right technique to overcome the inefficiency\n",
    "\n",
    "We can limit the number of iterations required for common operations like find, insert and update by organizing our data in the following structure, called a **binary tree**:\n",
    "\n",
    "<img src=\"https://i.imgur.com/lVqP63n.png\" width=\"520\">\n",
    "\n",
    "\n",
    "\n",
    "It's called a tree because it vaguely like an inverted tree trunk with branches. \n",
    "* The word \"binary\" indicates that each \"node\" in the tree can have at most 2 children (left or right). \n",
    "* Nodes can have 0, 1 or 2 children. Nodes that do not have any children are sometimes also called \"leaves\".\n",
    "* The single node at the top is called the \"root\" node, and it typically where operations like search, insertion etc. begin.\n",
    "\n",
    "<img src=\"https://i.imgur.com/TZHMKJr.png\" width=\"400\">\n"
   ]
  },
  {
   "cell_type": "markdown",
   "id": "5fab19f7",
   "metadata": {},
   "source": [
    "## Balanced Binary Search Trees\n",
    "\n",
    "<img src=\"https://i.imgur.com/Mqef5b3.png\" width=\"520\">\n",
    "\n",
    "For our use case, we require the binary tree to have some additional properties:\n",
    "\n",
    "1. **Keys and Values**: Each node of the tree stores a key (a username) and a value (a `User` object). Only keys are shown in the picture above for brevity. A binary tree where nodes have both a key and a value is often referred to as a **map** or **treemap** (because it maps keys to values).\n",
    "2. **Binary Search Tree**: The *left subtree* of any node only contains nodes with keys that are lexicographically smaller than the node's key, and the *right subtree* of any node only contains nodes with keys that lexicographically larger than the node's key. A tree that satisfies this property is called a **binary search trees**, and it's easy to locate a specific key by traversing a single path down from the root note.\n",
    "3. **Balanced Tree**: The tree is **balanced** i.e. it does not skew too heavily to one side or the other. The left and right subtrees of any node shouldn't differ in height/depth by more than 1 level.\n",
    "\n",
    "\n",
    "### Height of a Binary Tree\n",
    "\n",
    "The number of levels in a tree is called its height. As you can tell from the picture above, each level of a tree contains twice as many nodes as the previous level. \n",
    "\n",
    "For a tree of height `k`, here's a list of the number of nodes at each level:\n",
    "\n",
    "Level 0: `1`\n",
    "\n",
    "Level 1: `2`\n",
    "\n",
    "Level 2: `4` i.e. `2^2`\n",
    "\n",
    "Level 3: `8` i.e. `2^3`\n",
    "\n",
    "...\n",
    "\n",
    "Level k-1: `2^(k-1)`\n",
    "\n",
    "If the total number of nodes in the tree is `N`, then it follows that\n",
    "\n",
    "```\n",
    "N = 1 + 2^1 + 2^2 + 2^3 + ... + 2^(k-1)\n",
    "```\n",
    "\n",
    "\n",
    "We can simplify this equation by adding `1` on each side:\n",
    "\n",
    "```\n",
    "N + 1 = 1 + 1 + 2^1 + 2^2 + 2^3 + ... + 2^(k-1) \n",
    "\n",
    "N + 1 = 2^1 + 2^1 + 2^2+ 2^3 + ... + 2^(k-1) \n",
    "\n",
    "N + 1 = = 2^2 + 2^2 + 2^3 + ... + 2^(k-1)\n",
    "\n",
    "N + 1 = = 2^3 + 2^3 + ... + 2^(k-1)\n",
    "\n",
    "...\n",
    "\n",
    "N + 1 = 2^(k-1) + 2^(k-1)\n",
    "\n",
    "N + 1 = 2^k\n",
    "\n",
    "k = log(N + 1) <= log(N) + 1 \n",
    "\n",
    "```\n",
    "\n",
    "Thus, to store `N` records we require a balanced binary search tree (BST) of height no larger than `log(N) + 1`. This is a very useful property, in combination with the fact that nodes are arranged in a way that makes it easy to find a specific key by following a single path down from the root. \n",
    "\n",
    "As we'll see soon, the `insert`, `find` and `update` operations in a balanced BST have time complexity `O(log N)` since they all involve traversing a single path down from the root of the tree."
   ]
  },
  {
   "cell_type": "markdown",
   "id": "ad099cbd",
   "metadata": {},
   "source": [
    "## Binary Tree\n",
    "\n",
    "> **QUESTION 2**: Implement a binary tree using Python, and show its usage with some examples.\n",
    "\n",
    "To begin, we'll create simple binary tree (without any of the additional properties) containing numbers as keys within nodes. Here's an example:\n",
    "\n",
    "<img src=\"https://i.imgur.com/hg2ZG5h.png\" width=\"240\">\n",
    "\n",
    "Here's a simple class representing a node within a binary tree.\n"
   ]
  },
  {
   "cell_type": "code",
   "execution_count": 40,
   "id": "0f286750",
   "metadata": {},
   "outputs": [],
   "source": [
    "# this is a simple example of implenting a binary tree with python\n",
    "class TreeNode:\n",
    "    def __init__(self, key):\n",
    "        self.key = key\n",
    "        self.left = None\n",
    "        self.right = None"
   ]
  },
  {
   "cell_type": "markdown",
   "id": "2680184e",
   "metadata": {},
   "source": [
    "Let's create objects representing each node of the above tree"
   ]
  },
  {
   "cell_type": "code",
   "execution_count": 41,
   "id": "279d74a7",
   "metadata": {},
   "outputs": [],
   "source": [
    "node0 = TreeNode(3)\n",
    "node1 = TreeNode(4)\n",
    "node2 = TreeNode(5)"
   ]
  },
  {
   "cell_type": "markdown",
   "id": "80993bf2",
   "metadata": {},
   "source": [
    "Let's verify that `node0` is an object of the type `TreeNode` and has the property `key` set to `3`."
   ]
  },
  {
   "cell_type": "code",
   "execution_count": 42,
   "id": "f3fda899",
   "metadata": {},
   "outputs": [
    {
     "data": {
      "text/plain": [
       "<__main__.TreeNode at 0x7f705f0743d0>"
      ]
     },
     "execution_count": 42,
     "metadata": {},
     "output_type": "execute_result"
    }
   ],
   "source": [
    "node0"
   ]
  },
  {
   "cell_type": "code",
   "execution_count": 43,
   "id": "79014e90",
   "metadata": {},
   "outputs": [
    {
     "data": {
      "text/plain": [
       "3"
      ]
     },
     "execution_count": 43,
     "metadata": {},
     "output_type": "execute_result"
    }
   ],
   "source": [
    "node0.key"
   ]
  },
  {
   "cell_type": "markdown",
   "id": "7b42fe0e",
   "metadata": {},
   "source": [
    "We can *connect* the nodes by setting the `.left` and `.right` properties of the root node."
   ]
  },
  {
   "cell_type": "code",
   "execution_count": 44,
   "id": "102897c2",
   "metadata": {},
   "outputs": [],
   "source": [
    "# assigning left and right nodes\n",
    "node0.left = node1\n",
    "node0.right = node2"
   ]
  },
  {
   "cell_type": "markdown",
   "id": "fca053f0",
   "metadata": {},
   "source": [
    "And we're done! We can create a new variable *tree* which simply points to the root node, and use it to access all the nodes within the tree.\n",
    "\n",
    "<img src=\"https://i.imgur.com/hg2ZG5h.png\" width=\"240\">"
   ]
  },
  {
   "cell_type": "code",
   "execution_count": 45,
   "id": "0f649696",
   "metadata": {},
   "outputs": [],
   "source": [
    "# creating a variable to point to the root node\n",
    "tree = node0"
   ]
  },
  {
   "cell_type": "code",
   "execution_count": 46,
   "id": "45f63ddb",
   "metadata": {},
   "outputs": [
    {
     "data": {
      "text/plain": [
       "3"
      ]
     },
     "execution_count": 46,
     "metadata": {},
     "output_type": "execute_result"
    }
   ],
   "source": [
    "tree.key"
   ]
  },
  {
   "cell_type": "code",
   "execution_count": 47,
   "id": "61a22bb0",
   "metadata": {},
   "outputs": [
    {
     "data": {
      "text/plain": [
       "4"
      ]
     },
     "execution_count": 47,
     "metadata": {},
     "output_type": "execute_result"
    }
   ],
   "source": [
    "tree.left.key"
   ]
  },
  {
   "cell_type": "code",
   "execution_count": 48,
   "id": "ebeb901e",
   "metadata": {},
   "outputs": [
    {
     "data": {
      "text/plain": [
       "5"
      ]
     },
     "execution_count": 48,
     "metadata": {},
     "output_type": "execute_result"
    }
   ],
   "source": [
    "tree.right.key"
   ]
  },
  {
   "cell_type": "markdown",
   "id": "ebcbb1d7",
   "metadata": {},
   "source": [
    "Going forward, we'll use the term \"tree\" to refer to the root node. The term \"node\" can refer to any node in a tree, not necessarily the root.\n",
    "\n",
    "**Exercise:** Create the following binary tree using the `TreeNode` class defined above.\n",
    "\n",
    "<img src=\"https://i.imgur.com/d7djJAf.png\" width=\"540\">"
   ]
  },
  {
   "cell_type": "code",
   "execution_count": 49,
   "id": "b9f4acbb",
   "metadata": {},
   "outputs": [
    {
     "name": "stdout",
     "output_type": "stream",
     "text": [
      "2\n"
     ]
    }
   ],
   "source": [
    "tree = node0\n",
    "node0 = TreeNode(2)\n",
    "node1 = TreeNode(3)\n",
    "node2 = TreeNode(1)\n",
    "node0.left = node1\n",
    "node1.left = node2\n",
    "node3 = TreeNode(5)\n",
    "node0.right = node3\n",
    "node4 = TreeNode(3)\n",
    "node5 = TreeNode(7)\n",
    "node0.right = node3\n",
    "node3.left = node4\n",
    "node3.right = node5\n",
    "node6 = TreeNode(4)\n",
    "node7 = TreeNode(6)\n",
    "node8 = TreeNode(8)\n",
    "node4.right = node6\n",
    "node5.left = node7\n",
    "node5.right = node8\n",
    "\n",
    "print(node0.key)"
   ]
  },
  {
   "cell_type": "code",
   "execution_count": 50,
   "id": "3982255c",
   "metadata": {},
   "outputs": [
    {
     "name": "stdout",
     "output_type": "stream",
     "text": [
      "3\n",
      "1\n"
     ]
    }
   ],
   "source": [
    "# left side of tree\n",
    "print(node0.left.key)\n",
    "print(node1.left.key)\n"
   ]
  },
  {
   "cell_type": "code",
   "execution_count": 51,
   "id": "3c0a8326",
   "metadata": {
    "scrolled": true
   },
   "outputs": [
    {
     "name": "stdout",
     "output_type": "stream",
     "text": [
      "5\n",
      "3\n",
      "4\n",
      "7\n",
      "8\n",
      "6\n"
     ]
    }
   ],
   "source": [
    "# right side of the tree\n",
    "print(node0.right.key)\n",
    "print(node3.left.key)\n",
    "print(node4.right.key)\n",
    "print(node3.right.key)\n",
    "print(node5.right.key)\n",
    "print(node5.left.key)"
   ]
  },
  {
   "cell_type": "markdown",
   "id": "dd960bdd",
   "metadata": {},
   "source": [
    "It's a bit inconvenient to create a tree by manually connecting all the nodes. Let's write a helper function which can convert a tuple with the structure `( left_subtree, key, right_subtree)` (where `left_subtree` and `right_subtree` are themselves tuples) into binary tree.\n",
    "\n",
    "Here's an tuple representing the tree shown above:"
   ]
  },
  {
   "cell_type": "code",
   "execution_count": 52,
   "id": "9936e922",
   "metadata": {},
   "outputs": [],
   "source": [
    "tree_tuple = ((1,3,None), 2, ((None, 3, 4), 5, (6, 7, 8)))"
   ]
  },
  {
   "cell_type": "code",
   "execution_count": 53,
   "id": "f93ddfd3",
   "metadata": {},
   "outputs": [],
   "source": [
    "def parse_tuple(data):\n",
    "    #print(data)\n",
    "    if isinstance(data, tuple) and len(data) == 3:\n",
    "        node = TreeNode(data[1])\n",
    "        # recursive function by calling pars_tuple()\n",
    "        node.left = parse_tuple(data[0])\n",
    "        node.right = parse_tuple(data[2])\n",
    "    elif data is None:\n",
    "        node = None\n",
    "    # this is the dominating condition after recursion\n",
    "    else:\n",
    "        node = TreeNode(data)\n",
    "    return node"
   ]
  },
  {
   "cell_type": "markdown",
   "id": "d28898c4",
   "metadata": {},
   "source": [
    "The `parse_tuple` creates a new root node when a tuple of size 3 as an the input. Interestingly, to create the left and right subtrees for the node, the `parse_tuple` function invokes itself. This technique is called _recursion_. The chain of _recursive_ calls ends when `parse_tuple` encounters a number or `None` as input. We'll use recursion extensively throughout this tutorial.\n",
    "\n",
    "\n",
    "**Exercise:** Add print statements inside `parse_tuple` to display the arguments for each call of the function. Does the sequence of recursive calls make sense to you?\n"
   ]
  },
  {
   "cell_type": "markdown",
   "id": "a8e3c60b",
   "metadata": {},
   "source": [
    "Let's try out `parse_tuple` with the tuple define earlier."
   ]
  },
  {
   "cell_type": "code",
   "execution_count": 54,
   "id": "832eadd0",
   "metadata": {},
   "outputs": [],
   "source": [
    "tree2 = parse_tuple(((1,3,None), 2, ((None, 3, 4), 5, (6, 7, 8))))"
   ]
  },
  {
   "cell_type": "code",
   "execution_count": 55,
   "id": "282a6bc8",
   "metadata": {},
   "outputs": [
    {
     "data": {
      "text/plain": [
       "<__main__.TreeNode at 0x7f705f00eca0>"
      ]
     },
     "execution_count": 55,
     "metadata": {},
     "output_type": "execute_result"
    }
   ],
   "source": [
    "tree2"
   ]
  },
  {
   "cell_type": "markdown",
   "id": "3f2497a7",
   "metadata": {},
   "source": [
    "We can now examine the tree to verify that it was constructed as expected.\n",
    "\n",
    "<img src=\"https://i.imgur.com/d7djJAf.png\" width=\"540\">"
   ]
  },
  {
   "cell_type": "code",
   "execution_count": 56,
   "id": "1a209ab3",
   "metadata": {},
   "outputs": [
    {
     "data": {
      "text/plain": [
       "2"
      ]
     },
     "execution_count": 56,
     "metadata": {},
     "output_type": "execute_result"
    }
   ],
   "source": [
    "tree2.key"
   ]
  },
  {
   "cell_type": "code",
   "execution_count": 57,
   "id": "957c45dd",
   "metadata": {},
   "outputs": [
    {
     "data": {
      "text/plain": [
       "(3, 5)"
      ]
     },
     "execution_count": 57,
     "metadata": {},
     "output_type": "execute_result"
    }
   ],
   "source": [
    "tree2.left.key, tree2.right.key"
   ]
  },
  {
   "cell_type": "code",
   "execution_count": 58,
   "id": "7f425e08",
   "metadata": {},
   "outputs": [
    {
     "data": {
      "text/plain": [
       "(1, None, 3, 7)"
      ]
     },
     "execution_count": 58,
     "metadata": {},
     "output_type": "execute_result"
    }
   ],
   "source": [
    "tree2.left.left.key, tree2.left.right, tree2.right.left.key, tree2.right.right.key"
   ]
  },
  {
   "cell_type": "code",
   "execution_count": 59,
   "id": "54430d71",
   "metadata": {
    "scrolled": true
   },
   "outputs": [
    {
     "data": {
      "text/plain": [
       "(4, 6, 8)"
      ]
     },
     "execution_count": 59,
     "metadata": {},
     "output_type": "execute_result"
    }
   ],
   "source": [
    "tree2.right.left.right.key, tree2.right.right.left.key, tree2.right.right.right.key"
   ]
  },
  {
   "cell_type": "code",
   "execution_count": 60,
   "id": "17768a41",
   "metadata": {},
   "outputs": [
    {
     "data": {
      "application/javascript": [
       "window.require && require([\"base/js/namespace\"],function(Jupyter){Jupyter.notebook.save_checkpoint()})"
      ],
      "text/plain": [
       "<IPython.core.display.Javascript object>"
      ]
     },
     "metadata": {},
     "output_type": "display_data"
    },
    {
     "name": "stdout",
     "output_type": "stream",
     "text": [
      "[jovian] Updating notebook \"aciorra83/python-binary-search-trees\" on https://jovian.ai\u001b[0m\n",
      "[jovian] Committed successfully! https://jovian.ai/aciorra83/python-binary-search-trees\u001b[0m\n"
     ]
    },
    {
     "data": {
      "text/plain": [
       "'https://jovian.ai/aciorra83/python-binary-search-trees'"
      ]
     },
     "execution_count": 60,
     "metadata": {},
     "output_type": "execute_result"
    }
   ],
   "source": [
    "jovian.commit(project='python-binary-search-trees')"
   ]
  },
  {
   "cell_type": "markdown",
   "id": "fbb3fbca",
   "metadata": {},
   "source": [
    "**Exercise:** Define a function `tree_to_tuple` that converts a binary tree into a tuple representing the same tree. E.g. `tree_to_tuple` converts the tree created above to the tuple `((1, 3, None), 2, ((None, 3, 4), 5, (6, 7, 8)))`. *Hint*: Use recursion."
   ]
  },
  {
   "cell_type": "code",
   "execution_count": 61,
   "id": "4c0f694d",
   "metadata": {},
   "outputs": [],
   "source": [
    "def tree_to_tuple(node):\n",
    "    if node == None:\n",
    "        return None\n",
    "    if node.left is None and node.right is None:\n",
    "        return node.key\n",
    "    return TreeNode.tree_to_tuple(node.left), node.key, TreeNode.tree_to_tuple(node.right)\n",
    "    \n",
    "    "
   ]
  },
  {
   "cell_type": "code",
   "execution_count": null,
   "id": "7880aaf7",
   "metadata": {},
   "outputs": [],
   "source": []
  },
  {
   "cell_type": "markdown",
   "id": "f3161b21",
   "metadata": {},
   "source": [
    "Let's create another helper function to display all the keys in a tree-like structure for easier visualization."
   ]
  },
  {
   "cell_type": "code",
   "execution_count": 62,
   "id": "a1a03834",
   "metadata": {
    "code_folding": []
   },
   "outputs": [],
   "source": [
    "def display_keys(node, space='\\t', level=0):\n",
    "    # print(node.key if node else None, level)\n",
    "    \n",
    "    # If the node is empty\n",
    "    if node is None:\n",
    "        print(space*level + '∅')\n",
    "        return   \n",
    "    \n",
    "    # If the node is a leaf \n",
    "    if node.left is None and node.right is None:\n",
    "        print(space*level + str(node.key))\n",
    "        return\n",
    "    \n",
    "    # If the node has children\n",
    "    display_keys(node.right, space, level+1)\n",
    "    print(space*level + str(node.key))\n",
    "    display_keys(node.left,space, level+1)    "
   ]
  },
  {
   "cell_type": "markdown",
   "id": "f09e5a3d",
   "metadata": {},
   "source": [
    "Once again, the `display_keys` function users recursion to print all the keys of the left and right subtree with proper indentation.\n",
    "\n",
    "**Exercise:** Add print statements inside `display_keys` to display the arguments for each call of the function. Does the sequence of recursive calls make sense to you?\n",
    "\n",
    "Let's try using the function."
   ]
  },
  {
   "cell_type": "code",
   "execution_count": 63,
   "id": "13dbc5e4",
   "metadata": {},
   "outputs": [
    {
     "name": "stdout",
     "output_type": "stream",
     "text": [
      "      8\n",
      "    7\n",
      "      6\n",
      "  5\n",
      "      4\n",
      "    3\n",
      "      ∅\n",
      "2\n",
      "    ∅\n",
      "  3\n",
      "    1\n"
     ]
    }
   ],
   "source": [
    "display_keys(tree2, '  ')"
   ]
  },
  {
   "cell_type": "markdown",
   "id": "4e47ace8",
   "metadata": {},
   "source": [
    "We can now visualize the tree that was just created (albeit rotated by 90 degrees). It's easy to see that it matches the expected structure.\n",
    "\n",
    "<img src=\"https://i.imgur.com/d7djJAf.png\" width=\"540\">\n",
    "\n",
    "**Exercise**: Create some more trees and visualize them using `display_keys`. You can use [excalidraw.com](https://excalidraw.com) as a digital whiteboard to create trees."
   ]
  },
  {
   "cell_type": "code",
   "execution_count": 64,
   "id": "8d567afc",
   "metadata": {},
   "outputs": [],
   "source": [
    "tree3 = parse_tuple(((4,3,5), 1, (None,2,None)))"
   ]
  },
  {
   "cell_type": "code",
   "execution_count": 65,
   "id": "b33b6052",
   "metadata": {},
   "outputs": [
    {
     "name": "stdout",
     "output_type": "stream",
     "text": [
      "  2\n",
      "1\n",
      "    5\n",
      "  3\n",
      "    4\n"
     ]
    }
   ],
   "source": [
    "display_keys(tree3, '  ')"
   ]
  },
  {
   "cell_type": "code",
   "execution_count": 66,
   "id": "faa1a72d",
   "metadata": {},
   "outputs": [
    {
     "data": {
      "application/javascript": [
       "window.require && require([\"base/js/namespace\"],function(Jupyter){Jupyter.notebook.save_checkpoint()})"
      ],
      "text/plain": [
       "<IPython.core.display.Javascript object>"
      ]
     },
     "metadata": {},
     "output_type": "display_data"
    },
    {
     "name": "stdout",
     "output_type": "stream",
     "text": [
      "[jovian] Updating notebook \"aciorra83/python-binary-search-trees\" on https://jovian.ai\u001b[0m\n",
      "[jovian] Committed successfully! https://jovian.ai/aciorra83/python-binary-search-trees\u001b[0m\n"
     ]
    },
    {
     "data": {
      "text/plain": [
       "'https://jovian.ai/aciorra83/python-binary-search-trees'"
      ]
     },
     "execution_count": 66,
     "metadata": {},
     "output_type": "execute_result"
    }
   ],
   "source": [
    "jovian.commit(project='python-binary-search-trees')"
   ]
  },
  {
   "cell_type": "markdown",
   "id": "15db9808",
   "metadata": {},
   "source": [
    "## Traversing a Binary Tree\n",
    "\n",
    "The following questions are frequently asked in coding interviews and assessments:\n",
    "\n",
    "> **QUESTION 3**: Write a function to perform the _inorder_ traversal of a binary tree.\n",
    "\n",
    "> **QUESTION 4**: Write a function to perform the _preorder_ traversal of a binary tree.\n",
    "\n",
    "> **QUESTION 5**: Write a function to perform the _postorder_ traversal of a binary tree.\n",
    "\n",
    "A *traversal* refers to the process of visiting each node of a tree exactly once. _Visiting a node_ generally refers to adding the node's key to a list. There are three ways to traverse a binary tree and return the list of visited keys: \n",
    "\n",
    "### Inorder traversal\n",
    "\n",
    "\n",
    "\n",
    "  1. Traverse the left subtree recursively inorder.\n",
    "  2. Traverse the current node.\n",
    "  3. Traverse the right subtree recursively inorder.\n",
    "\n",
    "\n",
    "<img src=\"https://i.imgur.com/KCXpMA9.png\" width=\"540\">\n",
    "\n",
    "\n",
    "### Preorder traversal\n",
    "\n",
    "  1. Traverse the current node.\n",
    "  2. Traverse the left subtree recursively preorder.\n",
    "  3. Traverse the right subtree recursively preorder.\n",
    "  \n",
    "<img src=\"https://i.imgur.com/2xrMUWP.png\" width=\"540\">\n",
    "\n",
    "\n",
    "Can you guess how **postorder** traversal works??\n",
    "\n",
    "\n",
    "Here's an implementation of inorder traversal of a binary tree."
   ]
  },
  {
   "cell_type": "code",
   "execution_count": 67,
   "id": "d46cc890",
   "metadata": {},
   "outputs": [],
   "source": [
    "def traverse_in_order(node):\n",
    "    if node is None: \n",
    "        return []\n",
    "    return(traverse_in_order(node.left) + \n",
    "           [node.key] + \n",
    "           traverse_in_order(node.right))"
   ]
  },
  {
   "cell_type": "markdown",
   "id": "675035f2",
   "metadata": {},
   "source": [
    "Let's try it out with this tree:\n",
    "\n",
    "<img src=\"https://i.imgur.com/d7djJAf.png\" width=\"540\">"
   ]
  },
  {
   "cell_type": "code",
   "execution_count": 68,
   "id": "63b7e386",
   "metadata": {},
   "outputs": [],
   "source": [
    "tree = parse_tuple(((1,3,None), 2, ((None, 3, 4), 5, (6, 7, 8))))"
   ]
  },
  {
   "cell_type": "code",
   "execution_count": 69,
   "id": "ac8f5421",
   "metadata": {},
   "outputs": [
    {
     "name": "stdout",
     "output_type": "stream",
     "text": [
      "      8\n",
      "    7\n",
      "      6\n",
      "  5\n",
      "      4\n",
      "    3\n",
      "      ∅\n",
      "2\n",
      "    ∅\n",
      "  3\n",
      "    1\n"
     ]
    }
   ],
   "source": [
    "display_keys(tree, '  ')"
   ]
  },
  {
   "cell_type": "code",
   "execution_count": 70,
   "id": "9938ec0f",
   "metadata": {},
   "outputs": [
    {
     "data": {
      "text/plain": [
       "[1, 3, 2, 3, 4, 5, 6, 7, 8]"
      ]
     },
     "execution_count": 70,
     "metadata": {},
     "output_type": "execute_result"
    }
   ],
   "source": [
    "traverse_in_order(tree)"
   ]
  },
  {
   "cell_type": "markdown",
   "id": "f852fdc2",
   "metadata": {},
   "source": [
    "\n",
    "**Exercise:** Implement functions for preorder and postorder traversal of a binary tree.\n",
    "\n",
    "Test your implementations by making submissions to the following problems:\n",
    "\n",
    "* https://leetcode.com/problems/binary-tree-inorder-traversal/\n",
    "* https://leetcode.com/problems/binary-tree-preorder-traversal/\n",
    "* https://leetcode.com/problems/binary-tree-postorder-traversal/"
   ]
  },
  {
   "cell_type": "code",
   "execution_count": 71,
   "id": "6dd803b6",
   "metadata": {},
   "outputs": [
    {
     "data": {
      "application/javascript": [
       "window.require && require([\"base/js/namespace\"],function(Jupyter){Jupyter.notebook.save_checkpoint()})"
      ],
      "text/plain": [
       "<IPython.core.display.Javascript object>"
      ]
     },
     "metadata": {},
     "output_type": "display_data"
    },
    {
     "name": "stdout",
     "output_type": "stream",
     "text": [
      "[jovian] Updating notebook \"aciorra83/python-binary-search-trees\" on https://jovian.ai\u001b[0m\n",
      "[jovian] Committed successfully! https://jovian.ai/aciorra83/python-binary-search-trees\u001b[0m\n"
     ]
    },
    {
     "data": {
      "text/plain": [
       "'https://jovian.ai/aciorra83/python-binary-search-trees'"
      ]
     },
     "execution_count": 71,
     "metadata": {},
     "output_type": "execute_result"
    }
   ],
   "source": [
    "jovian.commit()"
   ]
  },
  {
   "cell_type": "markdown",
   "id": "b6f3276d",
   "metadata": {},
   "source": [
    "## Height and Size of a Binary Tree\n",
    "\n",
    "\n",
    "> **QUESTION 6**: Write a function to calculate the height/depth of a binary tree\n",
    "\n",
    "> **QUESTION 7**: Write a function to count the number of nodes in a binary tree\n",
    "\n",
    "\n",
    "The _height/depth_ of a binary tree is defined as the length of the longest path from its root node to a leaf. It can be computed recursively, as follows:\n"
   ]
  },
  {
   "cell_type": "code",
   "execution_count": 72,
   "id": "f7f2c483",
   "metadata": {},
   "outputs": [],
   "source": [
    "def tree_height(node):\n",
    "    if node is None:\n",
    "        return 0\n",
    "    return 1 + max(tree_height(node.left), tree_height(node.right))"
   ]
  },
  {
   "cell_type": "markdown",
   "id": "2e3b6815",
   "metadata": {},
   "source": [
    "Let's compute the height of this tree:\n",
    "\n",
    "<img src=\"https://i.imgur.com/d7djJAf.png\" width=\"540\">"
   ]
  },
  {
   "cell_type": "code",
   "execution_count": 73,
   "id": "d8e61512",
   "metadata": {},
   "outputs": [
    {
     "data": {
      "text/plain": [
       "4"
      ]
     },
     "execution_count": 73,
     "metadata": {},
     "output_type": "execute_result"
    }
   ],
   "source": [
    "tree_height(tree)"
   ]
  },
  {
   "cell_type": "markdown",
   "id": "0344c0b5",
   "metadata": {},
   "source": [
    "Here's a function to count the number of nodes in a binary tree."
   ]
  },
  {
   "cell_type": "code",
   "execution_count": 74,
   "id": "4b8a4e10",
   "metadata": {},
   "outputs": [],
   "source": [
    "def tree_size(node):\n",
    "    if node is None:\n",
    "        return 0\n",
    "    return 1 + tree_size(node.left) + tree_size(node.right)"
   ]
  },
  {
   "cell_type": "code",
   "execution_count": 75,
   "id": "7514d4b5",
   "metadata": {},
   "outputs": [
    {
     "data": {
      "text/plain": [
       "9"
      ]
     },
     "execution_count": 75,
     "metadata": {},
     "output_type": "execute_result"
    }
   ],
   "source": [
    "\n",
    "tree_size(tree)"
   ]
  },
  {
   "cell_type": "markdown",
   "id": "a8b2bc48",
   "metadata": {},
   "source": [
    "**Exercise:** Try solving these problems relating to path lengths in a binary tree:\n",
    "\n",
    "* https://leetcode.com/problems/maximum-depth-of-binary-tree/\n",
    "* https://leetcode.com/problems/minimum-depth-of-binary-tree/\n",
    "* https://leetcode.com/problems/diameter-of-binary-tree/"
   ]
  },
  {
   "cell_type": "markdown",
   "id": "462be2a6",
   "metadata": {},
   "source": [
    "As a final step, let's compile all the functions we've written so far as methods withing the `TreeNode` class itself. Encapsulation of data and functionality within the same class is a good programming practice."
   ]
  },
  {
   "cell_type": "code",
   "execution_count": 76,
   "id": "e3aaafdb",
   "metadata": {},
   "outputs": [],
   "source": [
    "class TreeNode():\n",
    "    def __init__(self, key):\n",
    "        self.key, self.left, self.right = key, None, None\n",
    "    \n",
    "    def height(self):\n",
    "        if self is None:\n",
    "            return 0\n",
    "        return 1 + max(TreeNode.height(self.left), TreeNode.height(self.right))\n",
    "    \n",
    "    def size(self):\n",
    "        if self is None:\n",
    "            return 0\n",
    "        return 1 + TreeNode.size(self.left) + TreeNode.size(self.right)\n",
    "\n",
    "    def traverse_in_order(self):\n",
    "        if self is None: \n",
    "            return []\n",
    "        return (TreeNode.traverse_in_order(self.left) + \n",
    "                [self.key] + \n",
    "                TreeNode.traverse_in_order(self.right))\n",
    "    \n",
    "    def display_keys(self, space='\\t', level=0):\n",
    "        # If the node is empty\n",
    "        if self is None:\n",
    "            print(space*level + '∅')\n",
    "            return   \n",
    "\n",
    "        # If the node is a leaf \n",
    "        if self.left is None and self.right is None:\n",
    "            print(space*level + str(self.key))\n",
    "            return\n",
    "\n",
    "        # If the node has children\n",
    "        display_keys(self.right, space, level+1)\n",
    "        print(space*level + str(self.key))\n",
    "        display_keys(self.left,space, level+1)    \n",
    "    \n",
    "    def to_tuple(self):\n",
    "        if self is None:\n",
    "            return None\n",
    "        if self.left is None and self.right is None:\n",
    "            return self.key\n",
    "        return TreeNode.to_tuple(self.left),  self.key, TreeNode.to_tuple(self.right)\n",
    "    \n",
    "    def __str__(self):\n",
    "        return \"BinaryTree <{}>\".format(self.to_tuple())\n",
    "    \n",
    "    def __repr__(self):\n",
    "        return \"BinaryTree <{}>\".format(self.to_tuple())\n",
    "    \n",
    "    @staticmethod    \n",
    "    def parse_tuple(data):\n",
    "        if data is None:\n",
    "            node = None\n",
    "        elif isinstance(data, tuple) and len(data) == 3:\n",
    "            node = TreeNode(data[1])\n",
    "            node.left = TreeNode.parse_tuple(data[0])\n",
    "            node.right = TreeNode.parse_tuple(data[2])\n",
    "        else:\n",
    "            node = TreeNode(data)\n",
    "        return node"
   ]
  },
  {
   "cell_type": "markdown",
   "id": "69328b74",
   "metadata": {},
   "source": [
    "The class method invocations `TreeNode.height(node)` and `node.height()` are equivalent. Can you guess why we're using the former in the function definitions above? Hint: Track the recursive calls. Discuss on the forum: https://jovian.ai/forum/c/data-structures-and-algorithms-in-python/lesson-2/82\n",
    "\n",
    "Let's try out the various methods defined above for this tree:\n",
    "\n",
    "<img src=\"https://i.imgur.com/d7djJAf.png\" width=\"540\">"
   ]
  },
  {
   "cell_type": "code",
   "execution_count": 77,
   "id": "4d132e08",
   "metadata": {},
   "outputs": [
    {
     "data": {
      "text/plain": [
       "((1, 3, None), 2, ((None, 3, 4), 5, (6, 7, 8)))"
      ]
     },
     "execution_count": 77,
     "metadata": {},
     "output_type": "execute_result"
    }
   ],
   "source": [
    "tree_tuple"
   ]
  },
  {
   "cell_type": "code",
   "execution_count": 78,
   "id": "830fb514",
   "metadata": {},
   "outputs": [],
   "source": [
    "tree = TreeNode.parse_tuple(tree_tuple)"
   ]
  },
  {
   "cell_type": "code",
   "execution_count": 79,
   "id": "797881bc",
   "metadata": {},
   "outputs": [
    {
     "data": {
      "text/plain": [
       "BinaryTree <((1, 3, None), 2, ((None, 3, 4), 5, (6, 7, 8)))>"
      ]
     },
     "execution_count": 79,
     "metadata": {},
     "output_type": "execute_result"
    }
   ],
   "source": [
    "tree"
   ]
  },
  {
   "cell_type": "code",
   "execution_count": 80,
   "id": "bd5eff33",
   "metadata": {},
   "outputs": [
    {
     "name": "stdout",
     "output_type": "stream",
     "text": [
      "      8\n",
      "    7\n",
      "      6\n",
      "  5\n",
      "      4\n",
      "    3\n",
      "      ∅\n",
      "2\n",
      "    ∅\n",
      "  3\n",
      "    1\n"
     ]
    }
   ],
   "source": [
    "tree.display_keys('  ')"
   ]
  },
  {
   "cell_type": "code",
   "execution_count": 81,
   "id": "f38f802b",
   "metadata": {},
   "outputs": [
    {
     "data": {
      "text/plain": [
       "4"
      ]
     },
     "execution_count": 81,
     "metadata": {},
     "output_type": "execute_result"
    }
   ],
   "source": [
    "tree.height()"
   ]
  },
  {
   "cell_type": "code",
   "execution_count": 82,
   "id": "dbcf26f4",
   "metadata": {},
   "outputs": [
    {
     "data": {
      "text/plain": [
       "9"
      ]
     },
     "execution_count": 82,
     "metadata": {},
     "output_type": "execute_result"
    }
   ],
   "source": [
    "tree.size()"
   ]
  },
  {
   "cell_type": "code",
   "execution_count": 83,
   "id": "a43b846d",
   "metadata": {},
   "outputs": [
    {
     "data": {
      "text/plain": [
       "[1, 3, 2, 3, 4, 5, 6, 7, 8]"
      ]
     },
     "execution_count": 83,
     "metadata": {},
     "output_type": "execute_result"
    }
   ],
   "source": [
    "tree.traverse_in_order()"
   ]
  },
  {
   "cell_type": "code",
   "execution_count": 84,
   "id": "b9850095",
   "metadata": {},
   "outputs": [
    {
     "data": {
      "text/plain": [
       "((1, 3, None), 2, ((None, 3, 4), 5, (6, 7, 8)))"
      ]
     },
     "execution_count": 84,
     "metadata": {},
     "output_type": "execute_result"
    }
   ],
   "source": [
    "tree.to_tuple()"
   ]
  },
  {
   "cell_type": "markdown",
   "id": "b64a7fad",
   "metadata": {},
   "source": [
    "**Exercise:** Create some more trees and try out the operations defined above. Add more operations to the `TreeNode` class."
   ]
  },
  {
   "cell_type": "code",
   "execution_count": 85,
   "id": "20472c57",
   "metadata": {},
   "outputs": [],
   "source": [
    " import jovian"
   ]
  },
  {
   "cell_type": "code",
   "execution_count": 86,
   "id": "f53d0111",
   "metadata": {},
   "outputs": [
    {
     "data": {
      "application/javascript": [
       "window.require && require([\"base/js/namespace\"],function(Jupyter){Jupyter.notebook.save_checkpoint()})"
      ],
      "text/plain": [
       "<IPython.core.display.Javascript object>"
      ]
     },
     "metadata": {},
     "output_type": "display_data"
    },
    {
     "name": "stdout",
     "output_type": "stream",
     "text": [
      "[jovian] Updating notebook \"aciorra83/python-binary-search-trees\" on https://jovian.ai\u001b[0m\n",
      "[jovian] Committed successfully! https://jovian.ai/aciorra83/python-binary-search-trees\u001b[0m\n"
     ]
    },
    {
     "data": {
      "text/plain": [
       "'https://jovian.ai/aciorra83/python-binary-search-trees'"
      ]
     },
     "execution_count": 86,
     "metadata": {},
     "output_type": "execute_result"
    }
   ],
   "source": [
    "jovian.commit()\n"
   ]
  },
  {
   "cell_type": "code",
   "execution_count": null,
   "id": "c00de16f",
   "metadata": {},
   "outputs": [],
   "source": []
  },
  {
   "cell_type": "markdown",
   "id": "c4ca4393",
   "metadata": {},
   "source": [
    "## Binary Search Tree (BST)\n",
    "<img src=\"https://i.imgur.com/JZeF9ix.png\" width=\"520\">\n",
    "\n",
    "A binary search tree or BST is a binary tree that satisfies the following conditions:\n",
    "\n",
    "1. The left subtree of any node only contains nodes with keys less than the node's key\n",
    "2. The right subtree of any node only contains nodes with keys greater than the node's key\n",
    "\n",
    "It follows from the above conditions that every subtree of a binary search tree must also be a binary search tree.\n",
    "\n",
    "\n",
    "> **QUESTION 8**: Write a function to check if a binary tree is a binary search tree (BST).\n",
    "\n",
    "> **QUESTION 9**: Write a function to find the maximum key in a binary tree.\n",
    "\n",
    "> **QUESTION 10**: Write a function to find the minimum key in a binary tree.\n",
    "\n",
    "\n",
    "Here's a function that covers all of the above:"
   ]
  },
  {
   "cell_type": "code",
   "execution_count": 87,
   "id": "e4250fb5",
   "metadata": {},
   "outputs": [],
   "source": [
    "def remove_none(nums):\n",
    "    return [x for x in nums if x is not None]\n",
    "\n",
    "def is_bst(node):\n",
    "    if node is None:\n",
    "        return True, None, None\n",
    "    \n",
    "    is_bst_l, min_l, max_l = is_bst(node.left)\n",
    "    is_bst_r, min_r, max_r = is_bst(node.right)\n",
    "    \n",
    "    is_bst_node = (is_bst_l and is_bst_r and \n",
    "              (max_l is None or node.key > max_l) and \n",
    "              (min_r is None or node.key < min_r))\n",
    "    \n",
    "    min_key = min(remove_none([min_l, node.key, min_r]))\n",
    "    max_key = max(remove_none([max_l, node.key, max_r]))\n",
    "    \n",
    "    # print(node.key, min_key, max_key, is_bst_node)\n",
    "        \n",
    "    return is_bst_node, min_key, max_key"
   ]
  },
  {
   "cell_type": "markdown",
   "id": "b8bb7be7",
   "metadata": {},
   "source": [
    "The following tree is not a BST (because a node with the key 3 appears in the left subtree of a node with the key 2):\n",
    "\n",
    "<img src=\"https://i.imgur.com/d7djJAf.png\" width=\"540\">\n",
    "\n",
    "Let's verify this using `is_bst`."
   ]
  },
  {
   "cell_type": "code",
   "execution_count": 88,
   "id": "55db66ec",
   "metadata": {},
   "outputs": [],
   "source": [
    "tree1 = TreeNode.parse_tuple(((1, 3, None), 2, ((None, 3, 4), 5, (6, 7, 8))))"
   ]
  },
  {
   "cell_type": "code",
   "execution_count": 89,
   "id": "d5bb9625",
   "metadata": {},
   "outputs": [
    {
     "data": {
      "text/plain": [
       "(False, 1, 8)"
      ]
     },
     "execution_count": 89,
     "metadata": {},
     "output_type": "execute_result"
    }
   ],
   "source": [
    "is_bst(tree1)"
   ]
  },
  {
   "cell_type": "markdown",
   "id": "7a02b339",
   "metadata": {},
   "source": [
    "On the other hand, the following tree is a BST:\n",
    "\n",
    "<img src=\"https://i.imgur.com/JZeF9ix.png\" width=\"520\">\n",
    "\n",
    "Let's create this tree and verify that it is a BST. Note that the `TreeNode` class also supports using strings as keys, as strings support the comparison operators `<` and `>` too."
   ]
  },
  {
   "cell_type": "code",
   "execution_count": 90,
   "id": "50909f46",
   "metadata": {},
   "outputs": [],
   "source": [
    "tree2 = TreeNode.parse_tuple((('aakash', 'biraj', 'hemanth')  , 'jadhesh', ('siddhant', 'sonaksh', 'vishal')))"
   ]
  },
  {
   "cell_type": "code",
   "execution_count": 91,
   "id": "d9ad7455",
   "metadata": {},
   "outputs": [
    {
     "data": {
      "text/plain": [
       "(True, 'aakash', 'vishal')"
      ]
     },
     "execution_count": 91,
     "metadata": {},
     "output_type": "execute_result"
    }
   ],
   "source": [
    "is_bst(tree2)"
   ]
  },
  {
   "cell_type": "markdown",
   "id": "f80c3e2b",
   "metadata": {},
   "source": [
    "**Exercise:** Test the `is_bst` function with some more examples using the empty cells below."
   ]
  },
  {
   "cell_type": "code",
   "execution_count": 92,
   "id": "7291fe20",
   "metadata": {},
   "outputs": [
    {
     "data": {
      "text/plain": [
       "(False, 1, 5)"
      ]
     },
     "execution_count": 92,
     "metadata": {},
     "output_type": "execute_result"
    }
   ],
   "source": [
    "is_bst(tree3)"
   ]
  },
  {
   "cell_type": "code",
   "execution_count": null,
   "id": "c5e719c8",
   "metadata": {},
   "outputs": [],
   "source": []
  },
  {
   "cell_type": "markdown",
   "id": "814baf28",
   "metadata": {},
   "source": [
    "## Storing Key-Value Pairs using BSTs\n",
    "\n",
    "Recall that we need to store user objects with each key in our BST. Let's define new class `BSTNode` to represent the nodes of of our tree. Apart from having properties `key`, `left` and `right`, we'll also store a `value` and pointer to the parent node (for easier upward traversal)."
   ]
  },
  {
   "cell_type": "code",
   "execution_count": 93,
   "id": "0640b8bb",
   "metadata": {},
   "outputs": [],
   "source": [
    "class BSTNode():\n",
    "    def __init__(self, key, value=None):\n",
    "        self.key = key\n",
    "        self.value = value\n",
    "        self.left = None\n",
    "        self.right = None\n",
    "        self.parent = None"
   ]
  },
  {
   "cell_type": "markdown",
   "id": "1310eb27",
   "metadata": {},
   "source": [
    "Let's try to recreate this BST with usernames as keys and user objects as values:\n",
    "\n",
    "<img src=\"https://i.imgur.com/JZeF9ix.png\" width=\"520\">"
   ]
  },
  {
   "cell_type": "code",
   "execution_count": 94,
   "id": "22035951",
   "metadata": {},
   "outputs": [],
   "source": [
    "# Level 0\n",
    "tree = BSTNode(jadhesh.username, jadhesh)"
   ]
  },
  {
   "cell_type": "code",
   "execution_count": 95,
   "id": "335d29ca",
   "metadata": {},
   "outputs": [
    {
     "data": {
      "text/plain": [
       "('jadhesh',\n",
       " User(username='jadhesh', name='Jadhesh Verma', email='jadhesh@example.com'))"
      ]
     },
     "execution_count": 95,
     "metadata": {},
     "output_type": "execute_result"
    }
   ],
   "source": [
    "# View Level 0\n",
    "tree.key, tree.value"
   ]
  },
  {
   "cell_type": "code",
   "execution_count": 96,
   "id": "46157588",
   "metadata": {},
   "outputs": [],
   "source": [
    "# Level 1\n",
    "tree.left = BSTNode(biraj.username, biraj)\n",
    "tree.left.parent = tree\n",
    "tree.right = BSTNode(sonaksh.username, sonaksh)\n",
    "tree.right.parent = tree"
   ]
  },
  {
   "cell_type": "code",
   "execution_count": 97,
   "id": "def33929",
   "metadata": {},
   "outputs": [
    {
     "data": {
      "text/plain": [
       "('biraj',\n",
       " User(username='biraj', name='Biraj Das', email='biraj@example.com'),\n",
       " 'sonaksh',\n",
       " User(username='sonaksh', name='Sonaksh Kumar', email='sonaksh@example.com'))"
      ]
     },
     "execution_count": 97,
     "metadata": {},
     "output_type": "execute_result"
    }
   ],
   "source": [
    "# View Level 1\n",
    "tree.left.key, tree.left.value, tree.right.key, tree.right.value"
   ]
  },
  {
   "cell_type": "markdown",
   "id": "b2d01114",
   "metadata": {},
   "source": [
    "**Exercise:** Add the next layer of nodes to the tree and verify that they were added properly."
   ]
  },
  {
   "cell_type": "code",
   "execution_count": 98,
   "id": "80441efd",
   "metadata": {},
   "outputs": [],
   "source": [
    "# Level 2\n",
    "tree.left2 = BSTNode(aakash.username, aakash)\n",
    "tree.left2.parent = tree.left\n",
    "tree.right2 = BSTNode(hemanth.username, hemanth)\n",
    "tree.left3 = BSTNode(siddhant.username, siddhant)\n",
    "tree.left3.parent = tree.right\n",
    "tree.right3 = BSTNode(vishal.username, vishal)\n",
    "tree.right3.parent = tree.right\n"
   ]
  },
  {
   "cell_type": "code",
   "execution_count": 99,
   "id": "7061e14d",
   "metadata": {},
   "outputs": [
    {
     "data": {
      "text/plain": [
       "('aakash',\n",
       " User(username='aakash', name='Aakash Rai', email='aakash@example.com'),\n",
       " 'hemanth',\n",
       " User(username='hemanth', name='Hemanth Jain', email='hemanth@example.com'),\n",
       " 'siddhant',\n",
       " User(username='siddhant', name='Siddhant U', email='siddhantu@example.com'),\n",
       " 'vishal',\n",
       " User(username='vishal', name='Vishal Goel', email='vishal@example.com'))"
      ]
     },
     "execution_count": 99,
     "metadata": {},
     "output_type": "execute_result"
    }
   ],
   "source": [
    "# View level 2\n",
    "tree.left2.key, tree.left2.value, tree.right2.key, tree.right2.value, tree.left3.key, tree.left3.value, tree.right3.key, tree.right3.value"
   ]
  },
  {
   "cell_type": "markdown",
   "id": "cb909f0d",
   "metadata": {},
   "source": [
    "We can use the same `display_keys` function we defined earlier to visualize our tree."
   ]
  },
  {
   "cell_type": "code",
   "execution_count": 100,
   "id": "e6d05897",
   "metadata": {},
   "outputs": [
    {
     "name": "stdout",
     "output_type": "stream",
     "text": [
      "\tsonaksh\n",
      "jadhesh\n",
      "\tbiraj\n"
     ]
    }
   ],
   "source": [
    "display_keys(tree)"
   ]
  },
  {
   "cell_type": "markdown",
   "id": "2f82f7eb",
   "metadata": {},
   "source": [
    "### Insertion into BST\n",
    "\n",
    "<img src=\"https://i.imgur.com/JZeF9ix.png\" width=\"520\">\n",
    "\n",
    "> **QUESTION 11**: Write a function to insert a new node into a BST.\n",
    "\n",
    "\n",
    "We use the BST-property to perform insertion efficiently: \n",
    "\n",
    "1. Starting from the root node, we compare the key to be inserted with the current node's key\n",
    "2. If the key is smaller, we recursively insert it in the left subtree (if it exists) or attach it as as the left child if no left subtree exists.\n",
    "3. If the key is larger, we recursively insert it in the right subtree (if it exists) or attach it as as the right child if no right subtree exists.\n",
    "\n",
    "Here's a recursive implementation of `insert`."
   ]
  },
  {
   "cell_type": "code",
   "execution_count": 101,
   "id": "00aa15e8",
   "metadata": {},
   "outputs": [],
   "source": [
    "def insert(node, key, value):\n",
    "    if node is None:\n",
    "        node = BSTNode(key, value)\n",
    "    elif key < node.key:\n",
    "        node.left = insert(node.left, key, value)\n",
    "        node.left.parent = node\n",
    "    elif key > node.key:\n",
    "        node.right = insert(node.right, key, value)\n",
    "        node.right.parent = node\n",
    "    return node"
   ]
  },
  {
   "cell_type": "markdown",
   "id": "ef7cf8db",
   "metadata": {},
   "source": [
    "Let's use this to recreate our tree.\n",
    "\n",
    "<img src=\"https://i.imgur.com/JZeF9ix.png\" width=\"520\">\n",
    "\n",
    "To create the first node, we can use the `insert` function with `None` as the target tree."
   ]
  },
  {
   "cell_type": "code",
   "execution_count": 102,
   "id": "42d3c3b9",
   "metadata": {},
   "outputs": [],
   "source": [
    "tree = insert(None, jadhesh.username, jadhesh)"
   ]
  },
  {
   "cell_type": "markdown",
   "id": "6c5ac902",
   "metadata": {},
   "source": [
    "The remaining nodes can now be inserted into `tree`."
   ]
  },
  {
   "cell_type": "code",
   "execution_count": 103,
   "id": "5c8743d8",
   "metadata": {},
   "outputs": [
    {
     "data": {
      "text/plain": [
       "<__main__.BSTNode at 0x7f705f0334f0>"
      ]
     },
     "execution_count": 103,
     "metadata": {},
     "output_type": "execute_result"
    }
   ],
   "source": [
    "insert(tree, aakash.username, aakash)\n",
    "insert(tree, biraj.username, biraj)\n",
    "insert(tree, sonaksh.username, sonaksh)\n",
    "insert(tree, siddhant.username, siddhant)\n",
    "insert(tree, hemanth.username, hemanth)\n",
    "insert(tree, vishal.username, siddhant)"
   ]
  },
  {
   "cell_type": "code",
   "execution_count": 104,
   "id": "c0926ce8",
   "metadata": {},
   "outputs": [
    {
     "name": "stdout",
     "output_type": "stream",
     "text": [
      "\t\tvishal\n",
      "\tsonaksh\n",
      "\t\tsiddhant\n",
      "jadhesh\n",
      "\t\t\themanth\n",
      "\t\tbiraj\n",
      "\t\t\t∅\n",
      "\taakash\n",
      "\t\t∅\n"
     ]
    }
   ],
   "source": [
    "display_keys(tree)"
   ]
  },
  {
   "cell_type": "markdown",
   "id": "92283c65",
   "metadata": {},
   "source": [
    "Perfect! The tree was created as expected. \n",
    "\n",
    "Note, however, that the order of insertion of nodes change the structure of the resulting tree."
   ]
  },
  {
   "cell_type": "code",
   "execution_count": 105,
   "id": "bbcf3ee5",
   "metadata": {},
   "outputs": [
    {
     "data": {
      "text/plain": [
       "<__main__.BSTNode at 0x7f705f033820>"
      ]
     },
     "execution_count": 105,
     "metadata": {},
     "output_type": "execute_result"
    }
   ],
   "source": [
    "tree2 = insert(None, aakash.username, aakash)\n",
    "insert(tree2, biraj.username, biraj)\n",
    "insert(tree2, hemanth.username, hemanth)\n",
    "insert(tree2, jadhesh.username, jadhesh)\n",
    "insert(tree2, siddhant.username, siddhant)\n",
    "insert(tree2, sonaksh.username, sonaksh)\n",
    "insert(tree2, vishal.username, vishal)"
   ]
  },
  {
   "cell_type": "code",
   "execution_count": 106,
   "id": "f8fb2f74",
   "metadata": {},
   "outputs": [
    {
     "name": "stdout",
     "output_type": "stream",
     "text": [
      "\t\t\t\t\t\tvishal\n",
      "\t\t\t\t\tsonaksh\n",
      "\t\t\t\t\t\t∅\n",
      "\t\t\t\tsiddhant\n",
      "\t\t\t\t\t∅\n",
      "\t\t\tjadhesh\n",
      "\t\t\t\t∅\n",
      "\t\themanth\n",
      "\t\t\t∅\n",
      "\tbiraj\n",
      "\t\t∅\n",
      "aakash\n",
      "\t∅\n"
     ]
    }
   ],
   "source": [
    "display_keys(tree2)"
   ]
  },
  {
   "cell_type": "markdown",
   "id": "a3e084cb",
   "metadata": {},
   "source": [
    "Can you see why the tree created above is skewed/unbalanced?\n",
    "\n",
    "<img src=\"https://i.imgur.com/lP5Thct.png\" width=\"520\">\n",
    "\n",
    "Skewed/unbalanced BSTs are problematic because the height of such trees often ceases to logarithmic compared to the number of nodes in the tree. For instance the above tree has 7 nodes and height 7.\n",
    "\n",
    "The length of the path traversed by `insert` is equal to the height of the tree (in the worst case). It follows that if the tree is balanced, the time complexity of insertion is `O(log N)` otherwise it is `O(N)`."
   ]
  },
  {
   "cell_type": "code",
   "execution_count": 107,
   "id": "25369342",
   "metadata": {},
   "outputs": [
    {
     "data": {
      "text/plain": [
       "7"
      ]
     },
     "execution_count": 107,
     "metadata": {},
     "output_type": "execute_result"
    }
   ],
   "source": [
    "tree_height(tree2)"
   ]
  },
  {
   "cell_type": "markdown",
   "id": "1bc5f2c0",
   "metadata": {},
   "source": [
    "**Exercise:** Create some more balanced and unbalanced BSTs using the `insert` function defined above."
   ]
  },
  {
   "cell_type": "code",
   "execution_count": 108,
   "id": "e86dd1ec",
   "metadata": {},
   "outputs": [
    {
     "name": "stdout",
     "output_type": "stream",
     "text": [
      "\t∅\n",
      "vishal\n",
      "\t\tsonaksh\n",
      "\tsiddhant\n",
      "\t\t\t∅\n",
      "\t\tjadhesh\n",
      "\t\t\t\t∅\n",
      "\t\t\themanth\n",
      "\t\t\t\t\t∅\n",
      "\t\t\t\tbiraj\n",
      "\t\t\t\t\taakash\n"
     ]
    }
   ],
   "source": [
    "tree3 = insert(None, vishal.username, vishal)\n",
    "insert(tree3, siddhant.username, siddhant)\n",
    "insert(tree3, sonaksh.username, sonaksh)\n",
    "insert(tree3, jadhesh.username, jadhesh)\n",
    "insert(tree3, hemanth.username, hemanth)\n",
    "insert(tree3, biraj.username, biraj)\n",
    "insert(tree3, aakash.username, aakash)\n",
    "\n",
    "\n",
    "display_keys(tree3)"
   ]
  },
  {
   "cell_type": "code",
   "execution_count": 109,
   "id": "1ba6196a",
   "metadata": {},
   "outputs": [
    {
     "name": "stdout",
     "output_type": "stream",
     "text": [
      "\t\tvishal\n",
      "\tsonaksh\n",
      "\t\tsiddhant\n",
      "jadhesh\n",
      "\t\t\themanth\n",
      "\t\tbiraj\n",
      "\t\t\t∅\n",
      "\taakash\n",
      "\t\t∅\n"
     ]
    }
   ],
   "source": [
    "tree4 = insert(None, jadhesh.username, jadhesh)\n",
    "insert(tree4, aakash.username, aakash)\n",
    "insert(tree4, biraj.username, biraj)\n",
    "insert(tree4, sonaksh.username, sonaksh)\n",
    "insert(tree4, siddhant.username, siddhant)\n",
    "insert(tree4, hemanth.username, hemanth)\n",
    "insert(tree4, vishal.username, siddhant)\n",
    "\n",
    "display_keys(tree4)"
   ]
  },
  {
   "cell_type": "markdown",
   "id": "87fb476f",
   "metadata": {},
   "source": [
    "### Finding a Node in BST\n",
    "\n",
    "> **QUESTION 11**: Find the value associated with a given key in a BST.\n",
    "\n",
    "We can follow a recursive strategy similar to insertion to find the node with a given key within a BST."
   ]
  },
  {
   "cell_type": "code",
   "execution_count": 110,
   "id": "97f49a17",
   "metadata": {},
   "outputs": [],
   "source": [
    "def find(node, key):\n",
    "    if node is None:\n",
    "        return None\n",
    "    if key == node.key:\n",
    "        return node\n",
    "    if key < node.key:\n",
    "        return find(node.left, key)\n",
    "    if key > node.key:\n",
    "        return find(node.right, key)"
   ]
  },
  {
   "cell_type": "markdown",
   "id": "9a42dfb8",
   "metadata": {},
   "source": [
    "<img src=\"https://i.imgur.com/dzDszlw.png\" width=\"520\">"
   ]
  },
  {
   "cell_type": "code",
   "execution_count": 111,
   "id": "e49c13fb",
   "metadata": {},
   "outputs": [],
   "source": [
    "node = find(tree, 'hemanth')"
   ]
  },
  {
   "cell_type": "code",
   "execution_count": 112,
   "id": "d9c13539",
   "metadata": {},
   "outputs": [
    {
     "data": {
      "text/plain": [
       "('hemanth',\n",
       " User(username='hemanth', name='Hemanth Jain', email='hemanth@example.com'))"
      ]
     },
     "execution_count": 112,
     "metadata": {},
     "output_type": "execute_result"
    }
   ],
   "source": [
    "node.key, node.value"
   ]
  },
  {
   "cell_type": "markdown",
   "id": "d1ff1608",
   "metadata": {},
   "source": [
    "The the length of the path followed by `find` is equal to the height of the tree (in the worst case). Thus it has a similar time complexity as `insert`.\n",
    "\n",
    "**Example:** Try finding some more nodes from the BST created above (or create new trees)."
   ]
  },
  {
   "cell_type": "code",
   "execution_count": 120,
   "id": "ca62d00c",
   "metadata": {},
   "outputs": [
    {
     "name": "stdout",
     "output_type": "stream",
     "text": [
      "None\n"
     ]
    }
   ],
   "source": [
    "node = find(tree, 'tanya')\n",
    "print(node)"
   ]
  },
  {
   "cell_type": "code",
   "execution_count": 121,
   "id": "094b4a2a",
   "metadata": {},
   "outputs": [
    {
     "name": "stdout",
     "output_type": "stream",
     "text": [
      "User(username='siddhant', name='Siddhant U', email='siddhantu@example.com')\n"
     ]
    }
   ],
   "source": [
    "node = find(tree, 'siddhant')\n",
    "print(node.value)"
   ]
  },
  {
   "cell_type": "markdown",
   "id": "f3b51961",
   "metadata": {},
   "source": [
    "### Updating a value in a BST\n",
    "\n",
    "> **QUESTION 12:** Write a function to update the value associated with a given key within a BST\n",
    "\n",
    "We can use `find` to locate the node to be updated, and simply update it's value."
   ]
  },
  {
   "cell_type": "code",
   "execution_count": 122,
   "id": "9c99d00d",
   "metadata": {},
   "outputs": [],
   "source": [
    "def update(node, key, value):\n",
    "    target = find(node, key)\n",
    "    if target is not None:\n",
    "        target.value = value"
   ]
  },
  {
   "cell_type": "code",
   "execution_count": 123,
   "id": "cd0fcb6c",
   "metadata": {},
   "outputs": [],
   "source": [
    "update(tree, 'hemanth', User('hemanth', 'Hemanth J', 'hemanthj@example.com'))"
   ]
  },
  {
   "cell_type": "code",
   "execution_count": 124,
   "id": "1a7ba6e2",
   "metadata": {},
   "outputs": [
    {
     "data": {
      "text/plain": [
       "User(username='hemanth', name='Hemanth J', email='hemanthj@example.com')"
      ]
     },
     "execution_count": 124,
     "metadata": {},
     "output_type": "execute_result"
    }
   ],
   "source": [
    "node = find(tree, 'hemanth')\n",
    "node.value"
   ]
  },
  {
   "cell_type": "markdown",
   "id": "23ccd079",
   "metadata": {},
   "source": [
    "The value of the node was successfully updated. The time complexity of `update` is the same as that of `find`.\n",
    "\n",
    "**Exercise:** Try some more update operations using the BST created earlier."
   ]
  },
  {
   "cell_type": "code",
   "execution_count": 125,
   "id": "3300f0c2",
   "metadata": {},
   "outputs": [],
   "source": [
    "update(tree, 'aakash', User('aakash', 'aakash J', 'aakashj@example.com'))"
   ]
  },
  {
   "cell_type": "code",
   "execution_count": 126,
   "id": "0e9a6df3",
   "metadata": {},
   "outputs": [
    {
     "data": {
      "text/plain": [
       "User(username='aakash', name='aakash J', email='aakashj@example.com')"
      ]
     },
     "execution_count": 126,
     "metadata": {},
     "output_type": "execute_result"
    }
   ],
   "source": [
    "node = find(tree, 'aakash')\n",
    "node.value"
   ]
  },
  {
   "cell_type": "markdown",
   "id": "9129ac4b",
   "metadata": {},
   "source": [
    "### List the nodes\n",
    "\n",
    "> **QUESTION 13:** Write a function to retrieve all the key-values pairs stored in a BST in the sorted order of keys.\n",
    "\n",
    "The nodes can be listed in sorted order by performing an inorder traversal of the BST."
   ]
  },
  {
   "cell_type": "code",
   "execution_count": 127,
   "id": "aece68af",
   "metadata": {},
   "outputs": [],
   "source": [
    "def list_all(node):\n",
    "    if node is None:\n",
    "        return []\n",
    "    return list_all(node.left) + [(node.key, node.value)] + list_all(node.right)"
   ]
  },
  {
   "cell_type": "code",
   "execution_count": 128,
   "id": "14049d5d",
   "metadata": {},
   "outputs": [
    {
     "data": {
      "text/plain": [
       "[('aakash',\n",
       "  User(username='aakash', name='aakash J', email='aakashj@example.com')),\n",
       " ('biraj',\n",
       "  User(username='biraj', name='Biraj Das', email='biraj@example.com')),\n",
       " ('hemanth',\n",
       "  User(username='hemanth', name='Hemanth J', email='hemanthj@example.com')),\n",
       " ('jadhesh',\n",
       "  User(username='jadhesh', name='Jadhesh Verma', email='jadhesh@example.com')),\n",
       " ('siddhant',\n",
       "  User(username='siddhant', name='Siddhant U', email='siddhantu@example.com')),\n",
       " ('sonaksh',\n",
       "  User(username='sonaksh', name='Sonaksh Kumar', email='sonaksh@example.com')),\n",
       " ('vishal',\n",
       "  User(username='siddhant', name='Siddhant U', email='siddhantu@example.com'))]"
      ]
     },
     "execution_count": 128,
     "metadata": {},
     "output_type": "execute_result"
    }
   ],
   "source": [
    "list_all(tree)"
   ]
  },
  {
   "cell_type": "markdown",
   "id": "4f9978d0",
   "metadata": {},
   "source": [
    "**Exercise:** Determine the time complexity and space complexity of `list_all`."
   ]
  },
  {
   "cell_type": "code",
   "execution_count": 129,
   "id": "66abb3e9",
   "metadata": {},
   "outputs": [],
   "source": [
    "import jovian"
   ]
  },
  {
   "cell_type": "code",
   "execution_count": 130,
   "id": "7d1ed929",
   "metadata": {},
   "outputs": [
    {
     "data": {
      "application/javascript": [
       "window.require && require([\"base/js/namespace\"],function(Jupyter){Jupyter.notebook.save_checkpoint()})"
      ],
      "text/plain": [
       "<IPython.core.display.Javascript object>"
      ]
     },
     "metadata": {},
     "output_type": "display_data"
    },
    {
     "name": "stdout",
     "output_type": "stream",
     "text": [
      "[jovian] Updating notebook \"aciorra83/python-binary-search-trees\" on https://jovian.ai\u001b[0m\n",
      "[jovian] Committed successfully! https://jovian.ai/aciorra83/python-binary-search-trees\u001b[0m\n"
     ]
    },
    {
     "data": {
      "text/plain": [
       "'https://jovian.ai/aciorra83/python-binary-search-trees'"
      ]
     },
     "execution_count": 130,
     "metadata": {},
     "output_type": "execute_result"
    }
   ],
   "source": [
    "jovian.commit()"
   ]
  },
  {
   "cell_type": "markdown",
   "id": "11a2842e",
   "metadata": {},
   "source": [
    "## Balanced Binary Trees\n",
    "\n",
    "> **QUESTION 14**: Write a function to determine if a binary tree is balanced.\n",
    "\n",
    "Here's a recursive strategy:\n",
    "\n",
    "1. Ensure that the left subtree is balanced.\n",
    "2. Ensure that the right subtree is balanced.\n",
    "3. Ensure that the difference between heights of left subtree and right subtree is not more than 1.\n",
    "\n"
   ]
  },
  {
   "cell_type": "code",
   "execution_count": 131,
   "id": "d9a05fec",
   "metadata": {},
   "outputs": [],
   "source": [
    "def is_balanced(node):\n",
    "    if node is None:\n",
    "        return True, 0\n",
    "    balanced_l, height_l = is_balanced(node.left)\n",
    "    balanced_r, height_r = is_balanced(node.right)\n",
    "    balanced = balanced_l and balanced_r and abs(height_l - height_r) <=1\n",
    "    height = 1 + max(height_l, height_r)\n",
    "    return balanced, height"
   ]
  },
  {
   "cell_type": "markdown",
   "id": "133176b4",
   "metadata": {},
   "source": [
    "The following tree is balanced:\n",
    "\n",
    "<img src=\"https://i.imgur.com/JZeF9ix.png\" width=\"520\">"
   ]
  },
  {
   "cell_type": "code",
   "execution_count": 132,
   "id": "2832d16f",
   "metadata": {},
   "outputs": [
    {
     "data": {
      "text/plain": [
       "(False, 4)"
      ]
     },
     "execution_count": 132,
     "metadata": {},
     "output_type": "execute_result"
    }
   ],
   "source": [
    "is_balanced(tree)"
   ]
  },
  {
   "cell_type": "markdown",
   "id": "19d5ccf3",
   "metadata": {},
   "source": [
    "The following tree is not balanced:\n",
    "\n",
    "<img src=\"https://i.imgur.com/lP5Thct.png\" width=\"520\">"
   ]
  },
  {
   "cell_type": "code",
   "execution_count": 133,
   "id": "a3373117",
   "metadata": {},
   "outputs": [
    {
     "data": {
      "text/plain": [
       "(False, 7)"
      ]
     },
     "execution_count": 133,
     "metadata": {},
     "output_type": "execute_result"
    }
   ],
   "source": [
    "is_balanced(tree2)"
   ]
  },
  {
   "cell_type": "markdown",
   "id": "427c9a55",
   "metadata": {},
   "source": [
    "**Exercise:** Is the tree shown below balanced? Why or why not? Create this tree and check if it's balanced using the `is_balanced` function.\n",
    "\n",
    "<img src=\"https://i.imgur.com/LlOT712.png\" width=\"520\">\n",
    "\n"
   ]
  },
  {
   "cell_type": "code",
   "execution_count": 139,
   "id": "6c0c7ebf",
   "metadata": {},
   "outputs": [
    {
     "data": {
      "text/plain": [
       "<__main__.BSTNode at 0x7f705f0334f0>"
      ]
     },
     "execution_count": 139,
     "metadata": {},
     "output_type": "execute_result"
    }
   ],
   "source": [
    "tanya = User('tanya', 'Tanya Harding', 'tanya@example.com')\n",
    "\n",
    "insert(tree, tanya.username, tanya)"
   ]
  },
  {
   "cell_type": "code",
   "execution_count": 141,
   "id": "17452e19",
   "metadata": {},
   "outputs": [
    {
     "data": {
      "text/plain": [
       "(False, 4)"
      ]
     },
     "execution_count": 141,
     "metadata": {},
     "output_type": "execute_result"
    }
   ],
   "source": [
    "is_balanced(tree)"
   ]
  },
  {
   "cell_type": "markdown",
   "id": "3b70f2c6",
   "metadata": {},
   "source": [
    "Also try this related problem on *complete* binary trees: https://leetcode.com/problems/check-completeness-of-a-binary-tree/\n",
    "\n"
   ]
  },
  {
   "cell_type": "markdown",
   "id": "e542a44f",
   "metadata": {},
   "source": [
    "## Balanced Binary Search Trees\n",
    "\n",
    "> **QUESTION 15**: Write a function to create a balanced BST from a sorted list/array of key-value pairs.\n",
    "\n",
    "We can use a recursive strategy here, turning the middle element of the list into the root, and recursively creating left and right subtrees.\n"
   ]
  },
  {
   "cell_type": "code",
   "execution_count": 142,
   "id": "26e42009",
   "metadata": {},
   "outputs": [],
   "source": [
    "def make_balanced_bst(data, lo=0, hi=None, parent=None):\n",
    "    if hi is None:\n",
    "        hi = len(data) - 1\n",
    "    if lo > hi:\n",
    "        return None\n",
    "    \n",
    "    mid = (lo + hi) // 2\n",
    "    key, value = data[mid]\n",
    "\n",
    "    root = BSTNode(key, value)\n",
    "    root.parent = parent\n",
    "    root.left = make_balanced_bst(data, lo, mid-1, root)\n",
    "    root.right = make_balanced_bst(data, mid+1, hi, root)\n",
    "    \n",
    "    return root\n",
    "    "
   ]
  },
  {
   "cell_type": "code",
   "execution_count": 146,
   "id": "d230160a",
   "metadata": {},
   "outputs": [
    {
     "data": {
      "text/plain": [
       "[('aakash',\n",
       "  User(username='aakash', name='Aakash Rai', email='aakash@example.com')),\n",
       " ('biraj',\n",
       "  User(username='biraj', name='Biraj Das', email='biraj@example.com')),\n",
       " ('hemanth',\n",
       "  User(username='hemanth', name='Hemanth Jain', email='hemanth@example.com')),\n",
       " ('jadhesh',\n",
       "  User(username='jadhesh', name='Jadhesh Verma', email='jadhesh@example.com')),\n",
       " ('siddhant',\n",
       "  User(username='siddhant', name='Siddhant U', email='siddhantu@example.com')),\n",
       " ('sonaksh',\n",
       "  User(username='sonaksh', name='Sonaksh Kumar', email='sonaksh@example.com')),\n",
       " ('vishal',\n",
       "  User(username='vishal', name='Vishal Goel', email='vishal@example.com'))]"
      ]
     },
     "execution_count": 146,
     "metadata": {},
     "output_type": "execute_result"
    }
   ],
   "source": [
    "data = [(user.username, user) for user in users]\n",
    "data"
   ]
  },
  {
   "cell_type": "code",
   "execution_count": 147,
   "id": "fc1be1f7",
   "metadata": {},
   "outputs": [],
   "source": [
    "tree = make_balanced_bst(data)"
   ]
  },
  {
   "cell_type": "code",
   "execution_count": 148,
   "id": "4f882152",
   "metadata": {},
   "outputs": [
    {
     "name": "stdout",
     "output_type": "stream",
     "text": [
      "\t\tvishal\n",
      "\tsonaksh\n",
      "\t\tsiddhant\n",
      "jadhesh\n",
      "\t\themanth\n",
      "\tbiraj\n",
      "\t\taakash\n"
     ]
    }
   ],
   "source": [
    "display_keys(tree)"
   ]
  },
  {
   "cell_type": "markdown",
   "id": "13123621",
   "metadata": {},
   "source": [
    "<img src=\"https://i.imgur.com/JZeF9ix.png\" width=\"520\">\n",
    "\n",
    "Recall that the same list of users, when inserted one-by-one resulted in a skewed tree."
   ]
  },
  {
   "cell_type": "code",
   "execution_count": 149,
   "id": "7b5b2ebf",
   "metadata": {},
   "outputs": [],
   "source": [
    "tree3 = None\n",
    "for username, user in data:\n",
    "    tree3 = insert(tree3, username, user)"
   ]
  },
  {
   "cell_type": "code",
   "execution_count": 150,
   "id": "b09795f4",
   "metadata": {},
   "outputs": [
    {
     "name": "stdout",
     "output_type": "stream",
     "text": [
      "\t\t\t\t\t\tvishal\n",
      "\t\t\t\t\tsonaksh\n",
      "\t\t\t\t\t\t∅\n",
      "\t\t\t\tsiddhant\n",
      "\t\t\t\t\t∅\n",
      "\t\t\tjadhesh\n",
      "\t\t\t\t∅\n",
      "\t\themanth\n",
      "\t\t\t∅\n",
      "\tbiraj\n",
      "\t\t∅\n",
      "aakash\n",
      "\t∅\n"
     ]
    }
   ],
   "source": [
    "display_keys(tree3)"
   ]
  },
  {
   "cell_type": "code",
   "execution_count": null,
   "id": "c16b45e9",
   "metadata": {},
   "outputs": [],
   "source": []
  },
  {
   "cell_type": "code",
   "execution_count": null,
   "id": "a2e9b646",
   "metadata": {},
   "outputs": [],
   "source": []
  },
  {
   "cell_type": "markdown",
   "id": "f2ddcb91",
   "metadata": {},
   "source": [
    "## Balancing an Unbalanced BST\n",
    "\n",
    "> **QUESTION 16:** Write a function to balance an unbalanced binary search tree.\n",
    "\n",
    "We first perform an inorder traversal, then create a balanced BST using the function defined earlier."
   ]
  },
  {
   "cell_type": "code",
   "execution_count": 151,
   "id": "374d8ecb",
   "metadata": {},
   "outputs": [],
   "source": [
    "def balance_bst(node):\n",
    "    return make_balanced_bst(list_all(node))"
   ]
  },
  {
   "cell_type": "code",
   "execution_count": 152,
   "id": "af30e8f1",
   "metadata": {},
   "outputs": [],
   "source": [
    "tree1 = None\n",
    "\n",
    "for user in users:\n",
    "    tree1 = insert(tree1, user.username, user)"
   ]
  },
  {
   "cell_type": "code",
   "execution_count": 153,
   "id": "05be4102",
   "metadata": {},
   "outputs": [
    {
     "name": "stdout",
     "output_type": "stream",
     "text": [
      "\t\t\t\t\t\tvishal\n",
      "\t\t\t\t\tsonaksh\n",
      "\t\t\t\t\t\t∅\n",
      "\t\t\t\tsiddhant\n",
      "\t\t\t\t\t∅\n",
      "\t\t\tjadhesh\n",
      "\t\t\t\t∅\n",
      "\t\themanth\n",
      "\t\t\t∅\n",
      "\tbiraj\n",
      "\t\t∅\n",
      "aakash\n",
      "\t∅\n"
     ]
    }
   ],
   "source": [
    "display_keys(tree1)"
   ]
  },
  {
   "cell_type": "code",
   "execution_count": 154,
   "id": "105d0562",
   "metadata": {},
   "outputs": [],
   "source": [
    "tree2 = balance_bst(tree1)"
   ]
  },
  {
   "cell_type": "code",
   "execution_count": 155,
   "id": "ba4533a7",
   "metadata": {},
   "outputs": [
    {
     "name": "stdout",
     "output_type": "stream",
     "text": [
      "\t\tvishal\n",
      "\tsonaksh\n",
      "\t\tsiddhant\n",
      "jadhesh\n",
      "\t\themanth\n",
      "\tbiraj\n",
      "\t\taakash\n"
     ]
    }
   ],
   "source": [
    "display_keys(tree2)"
   ]
  },
  {
   "cell_type": "markdown",
   "id": "48b316a0",
   "metadata": {},
   "source": [
    "After every insertion, we can balance the tree. This way the tree will remain balanced.\n",
    "\n",
    "Complexity of the various operations in a balanced BST:\n",
    "\n",
    "* Insert - O(log N) + O(N) = O(N)\n",
    "* Find - O(log N)\n",
    "* Update - O(log N)\n",
    "* List all - O(N)\n",
    "\n",
    "What's the real improvement between O(N) and O(log N)? "
   ]
  },
  {
   "cell_type": "code",
   "execution_count": 156,
   "id": "dca27a18",
   "metadata": {},
   "outputs": [
    {
     "data": {
      "text/plain": [
       "26.5754247590989"
      ]
     },
     "execution_count": 156,
     "metadata": {},
     "output_type": "execute_result"
    }
   ],
   "source": [
    "import math\n",
    "\n",
    "math.log(100000000, 2)"
   ]
  },
  {
   "cell_type": "markdown",
   "id": "67cabff4",
   "metadata": {},
   "source": [
    "The logarithm (base 2) of 100 million is around 26. Thus, it takes only 26 operations to find or update a node within a BST (as opposed to 100 million)."
   ]
  },
  {
   "cell_type": "code",
   "execution_count": 157,
   "id": "2c3c1a71",
   "metadata": {},
   "outputs": [
    {
     "name": "stdout",
     "output_type": "stream",
     "text": [
      "CPU times: user 8 µs, sys: 0 ns, total: 8 µs\n",
      "Wall time: 12.9 µs\n"
     ]
    }
   ],
   "source": [
    "%%time\n",
    "for i in range(26):\n",
    "    j = i*i"
   ]
  },
  {
   "cell_type": "markdown",
   "id": "1dc07908",
   "metadata": {},
   "source": [
    "Compared to linear time:"
   ]
  },
  {
   "cell_type": "code",
   "execution_count": 159,
   "id": "b5c599cb",
   "metadata": {},
   "outputs": [
    {
     "name": "stdout",
     "output_type": "stream",
     "text": [
      "CPU times: user 15.9 s, sys: 4.38 ms, total: 15.9 s\n",
      "Wall time: 16 s\n"
     ]
    }
   ],
   "source": [
    "%%time\n",
    "for i in range(100000000):\n",
    "    j = i*i"
   ]
  },
  {
   "cell_type": "markdown",
   "id": "6604ff6e",
   "metadata": {},
   "source": [
    "Thus, find and update from a balanced binary search tree is 300,000 times faster than our original solution. To speed up insertions, we may choose to perform the balancing periodically (e.g. once every 1000 insertions). This way, most insertions will be O (log N), but every 1000th insertion will take a few seconds. Another options is to rebalance the tree periodically at the end of every hour."
   ]
  },
  {
   "cell_type": "markdown",
   "id": "5f03a90e",
   "metadata": {},
   "source": [
    "## A Python-Friendly Treemap \n",
    "\n",
    "We are now ready to return to our original problem statement.\n",
    "\n",
    "> **QUESTION 1**: As a senior backend engineer at Jovian, you are tasked with developing a fast in-memory data structure to manage profile information (username, name and email) for 100 million users. It should allow the following operations to be performed efficiently:\n",
    "> \n",
    "> 1. **Insert** the profile information for a new user.\n",
    "> 2. **Find** the profile information of a user, given their username\n",
    "> 3. **Update** the profile information of a user, given their usrname\n",
    "> 5. **List** all the users of the platform, sorted by username\n",
    ">\n",
    "> You can assume that usernames are unique. \n",
    "\n",
    "\n",
    "\n",
    "We can create a generic class `TreeMap` which supports all the operations specified in the original problem statement in a python-friendly manner."
   ]
  },
  {
   "cell_type": "code",
   "execution_count": 160,
   "id": "69f04430",
   "metadata": {},
   "outputs": [],
   "source": [
    "class TreeMap():\n",
    "    def __init__(self):\n",
    "        self.root = None\n",
    "        \n",
    "    def __setitem__(self, key, value):\n",
    "        node = find(self.root, key)\n",
    "        if not node:\n",
    "            self.root = insert(self.root, key, value)\n",
    "            self.root = balance_bst(self.root)\n",
    "        else:\n",
    "            update(self.root, key, value)\n",
    "            \n",
    "        \n",
    "    def __getitem__(self, key):\n",
    "        node = find(self.root, key)\n",
    "        return node.value if node else None\n",
    "    \n",
    "    def __iter__(self):\n",
    "        return (x for x in list_all(self.root))\n",
    "    \n",
    "    def __len__(self):\n",
    "        return tree_size(self.root)\n",
    "    \n",
    "    def display(self):\n",
    "        return display_keys(self.root)"
   ]
  },
  {
   "cell_type": "markdown",
   "id": "4ff8006c",
   "metadata": {},
   "source": [
    "**Exercise**: What is the time complexity of `__len__`? Can you reduce it to **O(1)**. Hint: Modify the `BSTNode` class.\n",
    "\n",
    "Let's try using the `TreeMap` class below."
   ]
  },
  {
   "cell_type": "code",
   "execution_count": 161,
   "id": "1115fd3d",
   "metadata": {},
   "outputs": [
    {
     "data": {
      "text/plain": [
       "[User(username='aakash', name='Aakash Rai', email='aakash@example.com'),\n",
       " User(username='biraj', name='Biraj Das', email='biraj@example.com'),\n",
       " User(username='hemanth', name='Hemanth Jain', email='hemanth@example.com'),\n",
       " User(username='jadhesh', name='Jadhesh Verma', email='jadhesh@example.com'),\n",
       " User(username='siddhant', name='Siddhant U', email='siddhantu@example.com'),\n",
       " User(username='sonaksh', name='Sonaksh Kumar', email='sonaksh@example.com'),\n",
       " User(username='vishal', name='Vishal Goel', email='vishal@example.com')]"
      ]
     },
     "execution_count": 161,
     "metadata": {},
     "output_type": "execute_result"
    }
   ],
   "source": [
    "users"
   ]
  },
  {
   "cell_type": "code",
   "execution_count": 162,
   "id": "53bf491e",
   "metadata": {},
   "outputs": [],
   "source": [
    "treemap = TreeMap()"
   ]
  },
  {
   "cell_type": "code",
   "execution_count": 164,
   "id": "5339ac80",
   "metadata": {},
   "outputs": [
    {
     "name": "stdout",
     "output_type": "stream",
     "text": [
      "None\n"
     ]
    }
   ],
   "source": [
    "print(treemap.root)"
   ]
  },
  {
   "cell_type": "code",
   "execution_count": 165,
   "id": "15046317",
   "metadata": {},
   "outputs": [
    {
     "name": "stdout",
     "output_type": "stream",
     "text": [
      "∅\n"
     ]
    }
   ],
   "source": [
    "treemap.display()"
   ]
  },
  {
   "cell_type": "code",
   "execution_count": 166,
   "id": "77dce194",
   "metadata": {},
   "outputs": [],
   "source": [
    "treemap['aakash'] = aakash\n",
    "treemap['jadhesh'] = jadhesh\n",
    "treemap['sonaksh'] = sonaksh"
   ]
  },
  {
   "cell_type": "code",
   "execution_count": 167,
   "id": "16b4ab59",
   "metadata": {},
   "outputs": [
    {
     "name": "stdout",
     "output_type": "stream",
     "text": [
      "\tsonaksh\n",
      "jadhesh\n",
      "\taakash\n"
     ]
    }
   ],
   "source": [
    "treemap.display()"
   ]
  },
  {
   "cell_type": "code",
   "execution_count": 170,
   "id": "b6bffede",
   "metadata": {},
   "outputs": [
    {
     "data": {
      "text/plain": [
       "<__main__.BSTNode at 0x7f705f074df0>"
      ]
     },
     "execution_count": 170,
     "metadata": {},
     "output_type": "execute_result"
    }
   ],
   "source": [
    "treemap.root"
   ]
  },
  {
   "cell_type": "code",
   "execution_count": 171,
   "id": "a9cfa6e9",
   "metadata": {},
   "outputs": [
    {
     "data": {
      "text/plain": [
       "User(username='jadhesh', name='Jadhesh Verma', email='jadhesh@example.com')"
      ]
     },
     "execution_count": 171,
     "metadata": {},
     "output_type": "execute_result"
    }
   ],
   "source": [
    "treemap['jadhesh']"
   ]
  },
  {
   "cell_type": "code",
   "execution_count": 172,
   "id": "eafe4536",
   "metadata": {},
   "outputs": [
    {
     "data": {
      "text/plain": [
       "3"
      ]
     },
     "execution_count": 172,
     "metadata": {},
     "output_type": "execute_result"
    }
   ],
   "source": [
    "len(treemap)"
   ]
  },
  {
   "cell_type": "code",
   "execution_count": 173,
   "id": "703dce7b",
   "metadata": {},
   "outputs": [],
   "source": [
    "treemap['biraj'] = biraj\n",
    "treemap['hemanth'] = hemanth\n",
    "treemap['siddhant'] = siddhant\n",
    "treemap['vishal'] = vishal"
   ]
  },
  {
   "cell_type": "code",
   "execution_count": 174,
   "id": "fef84685",
   "metadata": {},
   "outputs": [
    {
     "name": "stdout",
     "output_type": "stream",
     "text": [
      "\t\tvishal\n",
      "\tsonaksh\n",
      "\t\tsiddhant\n",
      "jadhesh\n",
      "\t\themanth\n",
      "\tbiraj\n",
      "\t\taakash\n"
     ]
    }
   ],
   "source": [
    "treemap.display()"
   ]
  },
  {
   "cell_type": "code",
   "execution_count": 176,
   "id": "3476d4e7",
   "metadata": {},
   "outputs": [
    {
     "name": "stdout",
     "output_type": "stream",
     "text": [
      "aakash User(username='aakash', name='Aakash Rai', email='aakash@example.com')\n",
      "biraj User(username='biraj', name='Biraj Das', email='biraj@example.com')\n",
      "hemanth User(username='hemanth', name='Hemanth Jain', email='hemanth@example.com')\n",
      "jadhesh User(username='jadhesh', name='Jadhesh Verma', email='jadhesh@example.com')\n",
      "siddhant User(username='siddhant', name='Siddhant U', email='siddhantu@example.com')\n",
      "sonaksh User(username='sonaksh', name='Sonaksh Kumar', email='sonaksh@example.com')\n",
      "vishal User(username='vishal', name='Vishal Goel', email='vishal@example.com')\n"
     ]
    }
   ],
   "source": [
    "for key, value in treemap:\n",
    "    print(key, value)"
   ]
  },
  {
   "cell_type": "code",
   "execution_count": 177,
   "id": "4f1f9041",
   "metadata": {},
   "outputs": [
    {
     "data": {
      "text/plain": [
       "[('aakash',\n",
       "  User(username='aakash', name='Aakash Rai', email='aakash@example.com')),\n",
       " ('biraj',\n",
       "  User(username='biraj', name='Biraj Das', email='biraj@example.com')),\n",
       " ('hemanth',\n",
       "  User(username='hemanth', name='Hemanth Jain', email='hemanth@example.com')),\n",
       " ('jadhesh',\n",
       "  User(username='jadhesh', name='Jadhesh Verma', email='jadhesh@example.com')),\n",
       " ('siddhant',\n",
       "  User(username='siddhant', name='Siddhant U', email='siddhantu@example.com')),\n",
       " ('sonaksh',\n",
       "  User(username='sonaksh', name='Sonaksh Kumar', email='sonaksh@example.com')),\n",
       " ('vishal',\n",
       "  User(username='vishal', name='Vishal Goel', email='vishal@example.com'))]"
      ]
     },
     "execution_count": 177,
     "metadata": {},
     "output_type": "execute_result"
    }
   ],
   "source": [
    "list(treemap)"
   ]
  },
  {
   "cell_type": "code",
   "execution_count": 178,
   "id": "8e8a960c",
   "metadata": {},
   "outputs": [],
   "source": [
    "treemap['aakash'] = User(username='aakash', name='Aakash N S', email='aakashns@example.com')"
   ]
  },
  {
   "cell_type": "code",
   "execution_count": 179,
   "id": "0c648b26",
   "metadata": {},
   "outputs": [
    {
     "data": {
      "text/plain": [
       "User(username='aakash', name='Aakash N S', email='aakashns@example.com')"
      ]
     },
     "execution_count": 179,
     "metadata": {},
     "output_type": "execute_result"
    }
   ],
   "source": [
    "treemap['aakash']"
   ]
  },
  {
   "cell_type": "markdown",
   "id": "b160ceda",
   "metadata": {},
   "source": [
    "\n",
    "**Exercise:** Try out some more examples below. Can our treemap actually handle millions of users profiles?"
   ]
  },
  {
   "cell_type": "code",
   "execution_count": null,
   "id": "8f3c5cc8",
   "metadata": {},
   "outputs": [],
   "source": []
  },
  {
   "cell_type": "code",
   "execution_count": null,
   "id": "ba0b1c0f",
   "metadata": {},
   "outputs": [],
   "source": []
  },
  {
   "cell_type": "code",
   "execution_count": null,
   "id": "b9418694",
   "metadata": {},
   "outputs": [],
   "source": []
  },
  {
   "cell_type": "markdown",
   "id": "40e98109",
   "metadata": {},
   "source": [
    "Let's save our work before cotinuing."
   ]
  },
  {
   "cell_type": "code",
   "execution_count": 180,
   "id": "5b204843",
   "metadata": {},
   "outputs": [],
   "source": [
    "import jovian"
   ]
  },
  {
   "cell_type": "code",
   "execution_count": 181,
   "id": "55816177",
   "metadata": {},
   "outputs": [
    {
     "data": {
      "application/javascript": [
       "window.require && require([\"base/js/namespace\"],function(Jupyter){Jupyter.notebook.save_checkpoint()})"
      ],
      "text/plain": [
       "<IPython.core.display.Javascript object>"
      ]
     },
     "metadata": {},
     "output_type": "display_data"
    },
    {
     "name": "stdout",
     "output_type": "stream",
     "text": [
      "[jovian] Updating notebook \"aciorra83/python-binary-search-trees\" on https://jovian.ai\u001b[0m\n",
      "[jovian] Committed successfully! https://jovian.ai/aciorra83/python-binary-search-trees\u001b[0m\n"
     ]
    },
    {
     "data": {
      "text/plain": [
       "'https://jovian.ai/aciorra83/python-binary-search-trees'"
      ]
     },
     "execution_count": 181,
     "metadata": {},
     "output_type": "execute_result"
    }
   ],
   "source": [
    "jovian.commit()"
   ]
  },
  {
   "cell_type": "markdown",
   "id": "e4ddcace",
   "metadata": {},
   "source": [
    "## Self-Balancing Binary Trees and AVL Trees\n",
    "\n",
    "A *self-balancing binary tree* remains balanced after every insertion or deletion. Several decades of research has gone into creating self-balancing binary trees, and many approaches have been devised e.g. B-trees, Red Black Trees and  AVL (Adelson-Velsky Landis) trees.\n",
    "\n",
    "We'll take a brief look at AVL trees. Self-balancing in AVL trees is achieved by tracking the *balance factor* (difference between the height of the left subtree and the right subtree) for each node and *rotating* unbalanced subtrees along the path of insertion/deletion to balance them.\n",
    "\n",
    "![](https://upload.wikimedia.org/wikipedia/commons/f/fd/AVL_Tree_Example.gif)\n",
    "\n",
    "In a balanced BST, the balance factor of each node is either 0, -1, or 1. When we perform an insertion, then the balance factor of certain nodes along the path of insertion may change to 2 or -2. Those nodes can be \"rotated\" one-by-one to bring the balance factor back to 1, 0 or -1. \n",
    "\n",
    "There are 4 different scenarios for balancing, two of which require a single rotation, while the others require 2 rotations:\n",
    "\n",
    "\n",
    "![](https://s3.amazonaws.com/hr-challenge-images/0/1436854305-b167cc766c-AVL_Tree_Rebalancing.svg.png)\n",
    "\n",
    "Source: [HackerRank](https://www.hackerrank.com/challenges/self-balancing-tree/problem)\n",
    "\n",
    "Since each rotation takes constant time, and at most `log N` rotations may be required, this operation is far more efficient than creating a balanced binary tree from scratch, allowing insertion and deletion to be performed in `O (log N)` time. Here are some references for AVL Trees:\n",
    "\n",
    "* Explanation of the various cases: https://youtu.be/jDM6_TnYIqE?t=482\n",
    "* Implementation: https://www.geeksforgeeks.org/avl-tree-set-1-insertion/\n"
   ]
  },
  {
   "cell_type": "markdown",
   "id": "f294c232",
   "metadata": {},
   "source": [
    "## Summary and Exercises\n",
    "\n",
    "![](https://i.imgur.com/lVqP63n.png)\n",
    "\n",
    "Binary trees form the basis of many modern programming language features (e.g. maps in C++ and Java) and data storage systems (filesystem indexes, relational databases like MySQL). You might wonder if dictionaries in Python are also binary search trees. They're not. They're hash tables, which is a different but equally interesting and important data structure. We'll explore hash tables in a future tutorial.\n",
    "\n",
    "\n",
    "\n",
    "\n",
    "\n",
    "\n",
    "We've covered a lot of ground this in this tutorial, including several common interview questions. Here are a few more problems you can try out:\n",
    "\n",
    "1. Implement rotations and self-balancing insertion\n",
    "1. Implement deletion of a node from a binary search tree\n",
    "2. Implement deletion of a node from a BST (with balancing)\n",
    "3. Find the lowest common ancestor of two nodes in a tree (Hint: Use the `parent` property)\n",
    "4. Find the next node in lexicographic order for a given node\n",
    "5. Given a number k, find the k-th node in a BST.\n",
    "\n",
    "Try more questions here: \n",
    "\n",
    "* https://medium.com/techie-delight/binary-tree-interview-questions-and-practice-problems-439df7e5ea1f\n",
    "* https://leetcode.com/tag/tree/\n",
    "\n",
    "\n",
    "\n",
    "\n"
   ]
  },
  {
   "cell_type": "code",
   "execution_count": 182,
   "id": "ec512c6a",
   "metadata": {},
   "outputs": [],
   "source": [
    "import jovian"
   ]
  },
  {
   "cell_type": "code",
   "execution_count": null,
   "id": "74399d43",
   "metadata": {},
   "outputs": [
    {
     "data": {
      "application/javascript": [
       "window.require && require([\"base/js/namespace\"],function(Jupyter){Jupyter.notebook.save_checkpoint()})"
      ],
      "text/plain": [
       "<IPython.core.display.Javascript object>"
      ]
     },
     "metadata": {},
     "output_type": "display_data"
    }
   ],
   "source": [
    "jovian.commit()"
   ]
  },
  {
   "cell_type": "code",
   "execution_count": null,
   "id": "1fb84e43",
   "metadata": {},
   "outputs": [],
   "source": []
  }
 ],
 "metadata": {
  "kernelspec": {
   "display_name": "Python 3 (ipykernel)",
   "language": "python",
   "name": "python3"
  },
  "language_info": {
   "codemirror_mode": {
    "name": "ipython",
    "version": 3
   },
   "file_extension": ".py",
   "mimetype": "text/x-python",
   "name": "python",
   "nbconvert_exporter": "python",
   "pygments_lexer": "ipython3",
   "version": "3.9.6"
  }
 },
 "nbformat": 4,
 "nbformat_minor": 5
}
